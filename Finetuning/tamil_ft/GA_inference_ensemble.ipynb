{
 "cells": [
  {
   "cell_type": "code",
   "execution_count": 1,
   "metadata": {},
   "outputs": [],
   "source": [
    "import pandas as pd\n",
    "import numpy as np"
   ]
  },
  {
   "cell_type": "code",
   "execution_count": 2,
   "metadata": {},
   "outputs": [],
   "source": [
    "# Reading CSV from link\n",
    "def read_csv_from_link(url):\n",
    "    path = 'https://drive.google.com/uc?export=download&id='+url.split('/')[-2]\n",
    "    df = pd.read_csv(path,delimiter=\"\\t\",error_bad_lines=False, header=None)\n",
    "    return df"
   ]
  },
  {
   "cell_type": "code",
   "execution_count": 3,
   "metadata": {},
   "outputs": [
    {
     "name": "stderr",
     "output_type": "stream",
     "text": [
      "b'Skipping line 2399: expected 2 fields, saw 3\\nSkipping line 2525: expected 2 fields, saw 3\\n'\n",
      "b'Skipping line 777: expected 2 fields, saw 3\\n'\n"
     ]
    }
   ],
   "source": [
    "# Loading All Data\n",
    "tamil_train = read_csv_from_link('https://drive.google.com/file/d/15auwrFAlq52JJ61u7eSfnhT9rZtI5sjk/view?usp=sharing')\n",
    "tamil_dev = read_csv_from_link('https://drive.google.com/file/d/1Jme-Oftjm7OgfMNLKQs1mO_cnsQmznRI/view?usp=sharing')\n",
    "mal_train = read_csv_from_link('https://drive.google.com/file/d/13JCCr-IjZK7uhbLXeufptr_AxvsKinVl/view?usp=sharing')\n",
    "mal_dev = read_csv_from_link('https://drive.google.com/file/d/1J0msLpLoM6gmXkjC6DFeQ8CG_rrLvjnM/view?usp=sharing')\n",
    "kannada_train = read_csv_from_link('https://drive.google.com/file/d/1XuOhSpdK8qsbO-lZHrIcVaU5FsCXc05T/view?usp=sharing')\n",
    "kannada_dev = read_csv_from_link('https://drive.google.com/file/d/164zYZOeXIwt5jl3NggJU0CWRyD2fRT9z/view?usp=sharing')"
   ]
  },
  {
   "cell_type": "code",
   "execution_count": 4,
   "metadata": {},
   "outputs": [],
   "source": [
    "# Tamil Preprocess\n",
    "tamil_train = tamil_train.iloc[:, 0:2]\n",
    "tamil_train = tamil_train.rename(columns={0: \"text\", 1: \"label\"})\n",
    "\n",
    "tamil_dev = tamil_dev.iloc[:, 0:2]\n",
    "tamil_dev = tamil_dev.rename(columns={0: \"text\", 1: \"label\"})\n",
    "\n",
    "# Stats\n",
    "tamil_train['label'] = pd.Categorical(tamil_train.label)\n",
    "tamil_dev['label'] = pd.Categorical(tamil_dev.label)"
   ]
  },
  {
   "cell_type": "markdown",
   "metadata": {},
   "source": [
    "### Load Model"
   ]
  },
  {
   "cell_type": "code",
   "execution_count": 5,
   "metadata": {},
   "outputs": [],
   "source": [
    "import torch"
   ]
  },
  {
   "cell_type": "code",
   "execution_count": 13,
   "metadata": {},
   "outputs": [
    {
     "name": "stdout",
     "output_type": "stream",
     "text": [
      "\u001b[1m\u001b[37mdevi                   \u001b[m  Sat Jan  9 01:58:13 2021  \u001b[1m\u001b[30m450.51.05\u001b[m\r\n",
      "\u001b[36m[0]\u001b[m \u001b[34mTesla P100-PCIE-12GB\u001b[m |\u001b[31m 36'C\u001b[m, \u001b[32m  0 %\u001b[m | \u001b[36m\u001b[1m\u001b[33m 4959\u001b[m / \u001b[33m12198\u001b[m MB | \u001b[1m\u001b[30mpunyajoy\u001b[m(\u001b[33m4953M\u001b[m) \u001b[1m\u001b[30mgdm\u001b[m(\u001b[33m4M\u001b[m)\r\n",
      "\u001b[36m[1]\u001b[m \u001b[34mTesla P100-PCIE-16GB\u001b[m |\u001b[31m 46'C\u001b[m, \u001b[32m  0 %\u001b[m | \u001b[36m\u001b[1m\u001b[33m16275\u001b[m / \u001b[33m16280\u001b[m MB | \u001b[1m\u001b[30mpunyajoy\u001b[m(\u001b[33m13875M\u001b[m) \u001b[1m\u001b[30mpunyajoy\u001b[m(\u001b[33m1943M\u001b[m) \u001b[1m\u001b[30mpunyajoy\u001b[m(\u001b[33m451M\u001b[m) \u001b[1m\u001b[30mgdm\u001b[m(\u001b[33m4M\u001b[m)\r\n"
     ]
    }
   ],
   "source": [
    "!gpustat"
   ]
  },
  {
   "cell_type": "code",
   "execution_count": 10,
   "metadata": {
    "scrolled": true
   },
   "outputs": [
    {
     "name": "stdout",
     "output_type": "stream",
     "text": [
      "GPU Nos: 2\n",
      "Tesla P100-PCIE-12GB\n",
      "Tesla P100-PCIE-16GB\n"
     ]
    }
   ],
   "source": [
    "print(\"GPU Nos: {}\".format(torch.cuda.device_count()))\n",
    "print(torch.cuda.get_device_name(0))\n",
    "print(torch.cuda.get_device_name(1))\n",
    "\n",
    "# Change Device - CPU/GPU-0/GPU-1\n",
    "torch.cuda.set_device(0)\n",
    "device = 'cuda'\n",
    "device = device if torch.cuda.is_available() else 'cpu'"
   ]
  },
  {
   "cell_type": "markdown",
   "metadata": {},
   "source": [
    "## Enter Path of Saved model here in torch.load()"
   ]
  },
  {
   "cell_type": "code",
   "execution_count": 11,
   "metadata": {
    "scrolled": true
   },
   "outputs": [
    {
     "data": {
      "text/plain": [
       "['fusion_kannada_XLMroberta_base_kannadaMbert_base_cased_kannada_cnn_128laser_knlaser_en.pth',\n",
       " 'MURIL_cased_temp_offensive_only_kannada.pth',\n",
       " 'Indic_bert_collated_Tamil.pth',\n",
       " 'XLMroberta_custom_pretrained_Malayalam.pth',\n",
       " 'fusion_kannada_XLMroberta_base_kannadaXLMroberta_custom_pretrained_kannadaMbert_base_cased_kannadaIndic_bert_kannada_cnn_128laser_knlaser_en.pth',\n",
       " 'XLMroberta_base_offensive_only_malayalam_weighted.pth',\n",
       " 'XLMroberta_large_collated_kannada.pth',\n",
       " 'Scratch_custom.pth',\n",
       " 'XLMroberta_large_kannada.pth',\n",
       " 'Distilbert_m_base_cased_Malayalam_weighted.pth',\n",
       " 'Tamillion_X.pth',\n",
       " 'fusion_tamil_XLMroberta_base_TamilXLMroberta_custom_pretrained_tamil_weighted_cnn_128.pth',\n",
       " 'Indic_bert_collated_malayalam_weighted.pth',\n",
       " 'XLMroberta_custom_pretrained_collated_malayalam_weighted.pth',\n",
       " 'XLMroberta_large_offensive_only_Tamil.pth',\n",
       " 'XLMroberta_base_Tamil_soft_F1_loss.pth',\n",
       " 'Indic_bert_Malayalam_weighted.pth',\n",
       " 'fusion_kannada_XLMroberta_base_kannada_weightedMbert_base_cased_kannada_weightedMURIL_cased_temp_kannada_cnn_128laser_kn.pth',\n",
       " 'MURIL_cased_temp_offensive_only_malayalam.pth',\n",
       " 'XLMroberta_base_kannada.pth',\n",
       " 'fusion_kannada_XLMroberta_large_kannada_weighted_cnn_128.pth',\n",
       " 'XLMroberta_large_tamil_weighted.pth',\n",
       " 'fusion_kannada_XLMroberta_base_kannadaIndic_bert_kannada_.pth',\n",
       " 'Mbert_base_cased_collated_malayalam.pth',\n",
       " 'Distilbert_m_base_cased_collated_malayalam.pth',\n",
       " 'MURIL_cased_temp_collated_kannada.pth',\n",
       " 'Indic_bert_offensive_only_Tamil.pth',\n",
       " 'fusion_tamil_XLMroberta_base_TamilXLMroberta_large_Tamil_cnn_128laser_talaser_en.pth',\n",
       " 'MURIL_cased_temp_kannada.pth',\n",
       " 'Distilbert_m_base_cased_Tamil.pth',\n",
       " 'XLMroberta_base_collated_kannada_weighted.pth',\n",
       " 'XLMroberta_base_Malayalam_weighted.pth',\n",
       " '.ipynb_checkpoints',\n",
       " 'Distilbert_m_base_cased_Malayalam.pth',\n",
       " 'XLMroberta_large_Tamil.pth',\n",
       " 'XLMroberta_custom_pretrained_Malayalam_weighted.pth',\n",
       " 'Mbert_base_cased_Tamil[ 0.23034415  4.0278542  12.89977974  2.29037935  2.01531315  2.4995732 ].pth',\n",
       " 'Distilbert_m_base_cased_Tamil_exp.pth',\n",
       " 'fusion_kannada_XLMroberta_large_kannadaMbert_base_cased_kannada_cnn_128.pth',\n",
       " 'Mbert_base_cased_Tamil_exp.pth',\n",
       " 'XLMroberta_custom_pretrained_collated_kannada.pth',\n",
       " 'MURIL_cased_temp_Malayalam.pth',\n",
       " 'fusion_kannada_XLMroberta_base_kannadaMbert_base_cased_kannada_.pth',\n",
       " 'fusion_kannada_XLMroberta_base_kannada_weighted_cnn_128.pth',\n",
       " 'XLMNet_large_Tamil.pth',\n",
       " 'XLMroberta_large_Malayalam_weighted.pth',\n",
       " 'XLMroberta_base_collated_malayalam_weighted.pth',\n",
       " 'fusion_malayalam_XLMroberta_base_Malayalam_cnn_128.pth',\n",
       " 'MURIL_cased_temp_collated_kannada_weighted.pth',\n",
       " 'XLMroberta_large_collated_kannada_weighted.pth',\n",
       " 'fusion_malayalam_XLMroberta_custom_pretrained_MalayalamXLMroberta_base_MalayalamMbert_base_cased_Malayalam_weighted_cnn_128.pth',\n",
       " 'Distilbert_m_base_cased_offensive_only_malayalam_weighted.pth',\n",
       " 'Mbert_base_cased_Malayalam.pth',\n",
       " 'XLMroberta_base_offensive_only_Tamil.pth',\n",
       " 'XLMroberta_base_Tamil.pth',\n",
       " 'Indic_bert_collated_malayalam.pth',\n",
       " 'fusion_kannada_XLMroberta_custom_pretrained_kannada_cnn_128.pth',\n",
       " 'Mbert_base_cased_collated_Tamil.pth',\n",
       " 'XLMroberta_base_collated_kannada.pth',\n",
       " 'XLMroberta_base_offensive_only_kannada.pth',\n",
       " 'XLMroberta_large_collated_Tamil.pth',\n",
       " 'MURIL_cased_temp_offensive_only_malayalam_weighted.pth',\n",
       " 'XLMroberta_large_collated_malayalam.pth',\n",
       " 'Indic_bert_Tamil.pth',\n",
       " 'Indic_bert_kannada.pth',\n",
       " 'fusion_kannada_XLMroberta_base_kannadaXLMroberta_custom_pretrained_kannadaMbert_base_cased_kannada_cnn_128.pth',\n",
       " 'Distilbert_m_base_cased_offensive_only_Tamil.pth',\n",
       " 'Indic_bert_kannada_weighted.pth',\n",
       " 'MURIL_cased_temp_Tamil.pth',\n",
       " 'fusion_malayalam_XLMroberta_base_MalayalamXLMroberta_large_MalayalamMbert_base_cased_Malayalam_cnn_128.pth',\n",
       " 'Custom_Roberta_LM.pth',\n",
       " 'Indic_bert_collated_Tamil_weighted.pth',\n",
       " 'fusion_tamil_XLMroberta_base_TamilXLMroberta_large_TamilMbert_base_cased_Tamil_cnn_128.pth',\n",
       " 'XLMroberta_base_Malayalam.pth',\n",
       " 'fusion_kannada_v1.pth',\n",
       " 'XLMroberta_large_offensive_only_kannada_weighted.pth',\n",
       " 'XLMroberta_custom_pretrained_offensive_only_Tamil.pth',\n",
       " 'Distilbert_m_base_cased_collated_kannada_weighted.pth',\n",
       " 'MURIL_cased_temp_kannada_weighted.pth',\n",
       " 'fusion_kannada_XLMroberta_base_kannadaXLMroberta_custom_pretrained_kannada_cnn_128.pth',\n",
       " 'Mbert_base_cased_collated_kannada.pth',\n",
       " 'XLMroberta_large_offensive_only_malayalam.pth',\n",
       " 'fusion_kannada_Mbert_base_cased_kannada_cnn_128.pth',\n",
       " 'Mbert_base_cased_collated_kannada_weighted.pth',\n",
       " 'Mbert_base_cased_offensive_only_malayalam.pth',\n",
       " 'Indic_bert_offensive_only_malayalam.pth',\n",
       " 'test.pth',\n",
       " 'fusion_malayalam_XLMroberta_base_MalayalamMbert_base_cased_Malayalam_cnn_128.pth',\n",
       " 'fusion_kannada_XLMroberta_base_kannadaMbert_base_cased_kannadaMURIL_cased_temp_kannada_cnn_128.pth',\n",
       " 'Distilbert_m_base_cased_collated_kannada.pth',\n",
       " 'XLMroberta_custom_pretrained_offensive_only_malayalam_weighted.pth',\n",
       " 'XLMroberta_from_custom_pretrained_Tamil.pth',\n",
       " 'Mbert_base_cased_Malayalam_weighted.pth',\n",
       " 'XLMroberta_custom_pretrained_collated_malayalam.pth',\n",
       " 'fusion_malayalam_XLMroberta_base_MalayalamXLMroberta_large_TamilMbert_base_cased_Malayalam_cnn_128.pth',\n",
       " 'Distilbert_m_base_cased_offensive_only_malayalam.pth',\n",
       " 'XLMroberta_custom_pretrained_tamil_weighted.pth',\n",
       " 'fusion_kannada_XLMroberta_base_Tamil_cnn_128.pth',\n",
       " 'fusion_v1.pth',\n",
       " 'fusion_kannada_Mbert_base_cased_kannadaMURIL_cased_temp_kannada_cnn_128laser_knlaser_en.pth',\n",
       " 'Mbert_base_cased_tamil_weighted.pth',\n",
       " 'fusion_kannada_XLMroberta_base_kannadaMbert_base_cased_kannadaMURIL_cased_temp_kannada_cnn_128laser_kn.pth',\n",
       " 'XLMroberta_large_Malayalam.pth',\n",
       " 'XLMroberta_large_collated_malayalam_weighted.pth',\n",
       " 'fusion_malayalam_XLMroberta_custom_pretrained_MalayalamXLMroberta_large_Malayalam_cnn_128.pth',\n",
       " 'XLMroberta_large_kannada_weighted.pth',\n",
       " 'fusion_kannada_XLMroberta_base_kannada_cnn_128.pth',\n",
       " 'Mbert_base_cased_kannada.pth',\n",
       " 'Distilbert_m_base_cased_kannada.pth',\n",
       " 'fusion_kannada_v1_F1.pth',\n",
       " 'XLMroberta_custom_pretrained_kannada.pth',\n",
       " 'fusion_kannada_XLMroberta_base_kannadaXLMroberta_custom_pretrained_kannadaMbert_base_cased_kannada_cnn_128laser_knlaser_en.pth',\n",
       " 'XLMroberta_base_offensive_only_kannada_weighted.pth',\n",
       " 'MURIL_cased_temp_offensive_only_kannada_weighted.pth',\n",
       " 'XLMroberta_custom_pretrained_offensive_only_kannada.pth',\n",
       " 'fusion_tamil_XLMroberta_base_TamilXLMroberta_large_Tamil_cnn_128.pth',\n",
       " 'XLMroberta_custom_pretrained_Tamil_Weighted[0.01 1.   1.   1.   1.   1.  ].pth',\n",
       " 'XLMroberta_base_collated_malayalam.pth',\n",
       " 'Mbert_base_cased_collated_Tamil_weighted.pth',\n",
       " 'XLMroberta_base_kannada_weighted.pth',\n",
       " 'fusion_kannada_XLMroberta_base_kannadaMbert_base_cased_kannada_cnn_128.pth',\n",
       " 'XLMroberta_base_collated_Tamil.pth',\n",
       " 'Mbert_base_cased_kannada_weighted.pth',\n",
       " 'MURIL_cased_temp_tamil_weighted.pth',\n",
       " 'fusion_malayalam_XLMroberta_custom_pretrained_MalayalamXLMroberta_large_Tamil_cnn_128.pth',\n",
       " 'XLMroberta_custom_pretrained_collated_kannada_weighted.pth',\n",
       " 'Indic_bert_Tamil_exp.pth',\n",
       " 'Indic_bert_tamil_weighted.pth',\n",
       " 'fusion_tamil_XLMroberta_large_TamilMbert_base_cased_Tamil_cnn_128.pth',\n",
       " 'fusion_tamil_Mbert_base_cased_TamilXLMroberta_custom_pretrained_tamil_weighted_cnn_128.pth',\n",
       " 'MURIL_cased_temp_collated_malayalam.pth',\n",
       " 'fusion_tamil_XLMroberta_base_TamilMbert_base_cased_Tamil_cnn_128.pth',\n",
       " 'Indic_bert_collated_kannada_weighted.pth',\n",
       " 'Distilbert_m_base_cased_offensive_only_kannada.pth',\n",
       " 'XLMroberta_large_offensive_only_kannada.pth',\n",
       " 'Distilbert_m_base_cased_collated_malayalam_weighted.pth',\n",
       " 'Mbert_base_cased_offensive_only_kannada_weighted.pth',\n",
       " 'Distilbert_m_base_cased_kannada_weighted.pth',\n",
       " 'Indic_bert_Malayalam.pth',\n",
       " 'fusion_kannada_MURIL_cased_temp_kannada_cnn_128.pth',\n",
       " 'Indic_bert_offensive_only_kannada_weighted.pth',\n",
       " 'XLMroberta_base_offensive_only_Tamil_weighted.pth',\n",
       " 'XLMroberta_base_tamil_weighted.pth',\n",
       " 'Mbert_base_cased_offensive_only_kannada.pth',\n",
       " 'Mbert_base_cased_Tamil.pth',\n",
       " 'MURIL_cased_temp_Malayalam_weighted.pth',\n",
       " 'Distilbert_m_base_cased_tamil_weighted.pth',\n",
       " 'Indic_bert_offensive_only_kannada.pth',\n",
       " 'XLMroberta_custom_pretrained_offensive_only_malayalam.pth',\n",
       " 'fusion_malayalam_XLMroberta_base_MalayalamMbert_base_cased_Malayalam_.pth',\n",
       " 'fusion_tamil_MURIL_cased_temp_TamilXLMroberta_custom_pretrained_tamil_weighted_cnn_128.pth',\n",
       " 'XLMroberta_custom_pretrained_kannada_weighted.pth',\n",
       " 'XLMroberta_custom_pretrained_offensive_only_kannada_weighted.pth',\n",
       " 'fusion_kannada_XLMroberta_base_kannada_.pth',\n",
       " 'Indic_bert_collated_kannada.pth',\n",
       " 'Mbert_base_cased_offensive_only_Tamil.pth',\n",
       " 'Mbert_base_cased_collated_malayalam_weighted.pth',\n",
       " 'Indic_bert_offensive_only_malayalam_weighted.pth',\n",
       " 'XLMroberta_base_collated_Tamil_weighted.pth',\n",
       " 'XLMroberta_large_offensive_only_malayalam_weighted.pth',\n",
       " 'Mbert_base_cased_offensive_only_malayalam_weighted.pth',\n",
       " 'XLMroberta_base_offensive_only_malayalam.pth',\n",
       " 'fusion_malayalam_XLMroberta_custom_pretrained_MalayalamMbert_base_cased_Malayalam_cnn_128.pth',\n",
       " 'Distilbert_m_base_cased_offensive_only_kannada_weighted.pth',\n",
       " 'MURIL_cased_temp_collated_malayalam_weighted.pth']"
      ]
     },
     "execution_count": 11,
     "metadata": {},
     "output_type": "execute_result"
    }
   ],
   "source": [
    "# Model Select\n",
    "import os\n",
    "from os import listdir\n",
    "from os.path import isfile, join\n",
    "f = listdir('../../finetuned_models/')\n",
    "f"
   ]
  },
  {
   "cell_type": "code",
   "execution_count": 12,
   "metadata": {},
   "outputs": [],
   "source": [
    "saved_model_filenames = [\n",
    "    'XLMroberta_base_Tamil.pth',\n",
    "    'Indic_bert_Tamil.pth',\n",
    "    'Mbert_base_cased_Tamil.pth',\n",
    "    'XLMroberta_custom_pretrained_Tamil_Weighted[0.01 1.   1.   1.   1.   1.  ].pth',\n",
    "    'Mbert_base_cased_Tamil[ 0.23034415  4.0278542  12.89977974  2.29037935  2.01531315  2.4995732 ].pth',\n",
    "    'XLMroberta_from_custom_pretrained_Tamil.pth',\n",
    "    'XLMroberta_large_Tamil.pth',\n",
    "    'Distilbert_m_base_cased_Tamil.pth',\n",
    "    'MURIL_cased_temp_Tamil.pth',\n",
    "    \"XLMroberta_large_tamil_weighted.pth\",\n",
    "    \"XLMroberta_custom_pretrained_tamil_weighted.pth\",\n",
    "    \"Mbert_base_cased_tamil_weighted.pth\",\n",
    "    \"MURIL_cased_temp_tamil_weighted.pth\",\n",
    "    \"Indic_bert_tamil_weighted.pth\",\n",
    "    \"XLMroberta_base_tamil_weighted.pth\",\n",
    "    \"Distilbert_m_base_cased_tamil_weighted.pth\",\n",
    "]"
   ]
  },
  {
   "cell_type": "code",
   "execution_count": 13,
   "metadata": {},
   "outputs": [],
   "source": [
    "model_pretrained_keys = [\n",
    "    'xlm-roberta-base',\n",
    "    'ai4bharat/indic-bert',\n",
    "    'bert-base-multilingual-cased',\n",
    "    'xlm-roberta-base',\n",
    "    'bert-base-multilingual-cased',\n",
    "    'xlm-roberta-base',\n",
    "    'xlm-roberta-large',\n",
    "    'distilbert-base-multilingual-cased',\n",
    "    \"simran-kh/muril-cased-temp\",\n",
    "    'xlm-roberta-large',\n",
    "    'xlm-roberta-base',\n",
    "    'bert-base-multilingual-cased',\n",
    "    \"simran-kh/muril-cased-temp\",\n",
    "    'ai4bharat/indic-bert',\n",
    "    'xlm-roberta-base',\n",
    "    'distilbert-base-multilingual-cased',\n",
    "]"
   ]
  },
  {
   "cell_type": "markdown",
   "metadata": {},
   "source": [
    "### Get predictions"
   ]
  },
  {
   "cell_type": "code",
   "execution_count": 11,
   "metadata": {},
   "outputs": [],
   "source": [
    "tokenizers = []\n",
    "models = []"
   ]
  },
  {
   "cell_type": "code",
   "execution_count": 12,
   "metadata": {
    "scrolled": true
   },
   "outputs": [
    {
     "name": "stderr",
     "output_type": "stream",
     "text": [
      "Some weights of the model checkpoint at xlm-roberta-base were not used when initializing XLMRobertaForSequenceClassification: ['lm_head.bias', 'lm_head.dense.weight', 'lm_head.dense.bias', 'lm_head.layer_norm.weight', 'lm_head.layer_norm.bias', 'lm_head.decoder.weight', 'roberta.pooler.dense.weight', 'roberta.pooler.dense.bias']\n",
      "- This IS expected if you are initializing XLMRobertaForSequenceClassification from the checkpoint of a model trained on another task or with another architecture (e.g. initializing a BertForSequenceClassification model from a BertForPreTraining model).\n",
      "- This IS NOT expected if you are initializing XLMRobertaForSequenceClassification from the checkpoint of a model that you expect to be exactly identical (initializing a BertForSequenceClassification model from a BertForSequenceClassification model).\n",
      "Some weights of XLMRobertaForSequenceClassification were not initialized from the model checkpoint at xlm-roberta-base and are newly initialized: ['classifier.dense.weight', 'classifier.dense.bias', 'classifier.out_proj.weight', 'classifier.out_proj.bias']\n",
      "You should probably TRAIN this model on a down-stream task to be able to use it for predictions and inference.\n"
     ]
    },
    {
     "ename": "RuntimeError",
     "evalue": "CUDA error: out of memory",
     "output_type": "error",
     "traceback": [
      "\u001b[0;31m---------------------------------------------------------------------------\u001b[0m",
      "\u001b[0;31mRuntimeError\u001b[0m                              Traceback (most recent call last)",
      "\u001b[0;32m<ipython-input-12-fba289167911>\u001b[0m in \u001b[0;36m<module>\u001b[0;34m\u001b[0m\n\u001b[1;32m     11\u001b[0m         \u001b[0mmodel\u001b[0m \u001b[0;34m=\u001b[0m \u001b[0mAutoModelForSequenceClassification\u001b[0m\u001b[0;34m.\u001b[0m\u001b[0mfrom_pretrained\u001b[0m\u001b[0;34m(\u001b[0m\u001b[0mpretrained_key\u001b[0m\u001b[0;34m,\u001b[0m \u001b[0mnum_labels\u001b[0m\u001b[0;34m=\u001b[0m\u001b[0;36m6\u001b[0m\u001b[0;34m)\u001b[0m\u001b[0;34m\u001b[0m\u001b[0;34m\u001b[0m\u001b[0m\n\u001b[1;32m     12\u001b[0m \u001b[0;34m\u001b[0m\u001b[0m\n\u001b[0;32m---> 13\u001b[0;31m     \u001b[0mstate_dict\u001b[0m \u001b[0;34m=\u001b[0m \u001b[0mtorch\u001b[0m\u001b[0;34m.\u001b[0m\u001b[0mload\u001b[0m\u001b[0;34m(\u001b[0m\u001b[0mos\u001b[0m\u001b[0;34m.\u001b[0m\u001b[0mpath\u001b[0m\u001b[0;34m.\u001b[0m\u001b[0mjoin\u001b[0m\u001b[0;34m(\u001b[0m\u001b[0;34m'../finetuned_models/'\u001b[0m\u001b[0;34m,\u001b[0m \u001b[0mmodel_name\u001b[0m\u001b[0;34m)\u001b[0m\u001b[0;34m)\u001b[0m\u001b[0;34m\u001b[0m\u001b[0;34m\u001b[0m\u001b[0m\n\u001b[0m\u001b[1;32m     14\u001b[0m     \u001b[0mmodel\u001b[0m\u001b[0;34m.\u001b[0m\u001b[0mload_state_dict\u001b[0m\u001b[0;34m(\u001b[0m\u001b[0mstate_dict\u001b[0m\u001b[0;34m)\u001b[0m\u001b[0;34m\u001b[0m\u001b[0;34m\u001b[0m\u001b[0m\n\u001b[1;32m     15\u001b[0m     \u001b[0mmodel\u001b[0m\u001b[0;34m.\u001b[0m\u001b[0meval\u001b[0m\u001b[0;34m(\u001b[0m\u001b[0;34m)\u001b[0m\u001b[0;34m\u001b[0m\u001b[0;34m\u001b[0m\u001b[0m\n",
      "\u001b[0;32m~/.conda/envs/nlp/lib/python3.7/site-packages/torch/serialization.py\u001b[0m in \u001b[0;36mload\u001b[0;34m(f, map_location, pickle_module, **pickle_load_args)\u001b[0m\n\u001b[1;32m    592\u001b[0m                     \u001b[0mopened_file\u001b[0m\u001b[0;34m.\u001b[0m\u001b[0mseek\u001b[0m\u001b[0;34m(\u001b[0m\u001b[0morig_position\u001b[0m\u001b[0;34m)\u001b[0m\u001b[0;34m\u001b[0m\u001b[0;34m\u001b[0m\u001b[0m\n\u001b[1;32m    593\u001b[0m                     \u001b[0;32mreturn\u001b[0m \u001b[0mtorch\u001b[0m\u001b[0;34m.\u001b[0m\u001b[0mjit\u001b[0m\u001b[0;34m.\u001b[0m\u001b[0mload\u001b[0m\u001b[0;34m(\u001b[0m\u001b[0mopened_file\u001b[0m\u001b[0;34m)\u001b[0m\u001b[0;34m\u001b[0m\u001b[0;34m\u001b[0m\u001b[0m\n\u001b[0;32m--> 594\u001b[0;31m                 \u001b[0;32mreturn\u001b[0m \u001b[0m_load\u001b[0m\u001b[0;34m(\u001b[0m\u001b[0mopened_zipfile\u001b[0m\u001b[0;34m,\u001b[0m \u001b[0mmap_location\u001b[0m\u001b[0;34m,\u001b[0m \u001b[0mpickle_module\u001b[0m\u001b[0;34m,\u001b[0m \u001b[0;34m**\u001b[0m\u001b[0mpickle_load_args\u001b[0m\u001b[0;34m)\u001b[0m\u001b[0;34m\u001b[0m\u001b[0;34m\u001b[0m\u001b[0m\n\u001b[0m\u001b[1;32m    595\u001b[0m         \u001b[0;32mreturn\u001b[0m \u001b[0m_legacy_load\u001b[0m\u001b[0;34m(\u001b[0m\u001b[0mopened_file\u001b[0m\u001b[0;34m,\u001b[0m \u001b[0mmap_location\u001b[0m\u001b[0;34m,\u001b[0m \u001b[0mpickle_module\u001b[0m\u001b[0;34m,\u001b[0m \u001b[0;34m**\u001b[0m\u001b[0mpickle_load_args\u001b[0m\u001b[0;34m)\u001b[0m\u001b[0;34m\u001b[0m\u001b[0;34m\u001b[0m\u001b[0m\n\u001b[1;32m    596\u001b[0m \u001b[0;34m\u001b[0m\u001b[0m\n",
      "\u001b[0;32m~/.conda/envs/nlp/lib/python3.7/site-packages/torch/serialization.py\u001b[0m in \u001b[0;36m_load\u001b[0;34m(zip_file, map_location, pickle_module, pickle_file, **pickle_load_args)\u001b[0m\n\u001b[1;32m    851\u001b[0m     \u001b[0munpickler\u001b[0m \u001b[0;34m=\u001b[0m \u001b[0mpickle_module\u001b[0m\u001b[0;34m.\u001b[0m\u001b[0mUnpickler\u001b[0m\u001b[0;34m(\u001b[0m\u001b[0mdata_file\u001b[0m\u001b[0;34m,\u001b[0m \u001b[0;34m**\u001b[0m\u001b[0mpickle_load_args\u001b[0m\u001b[0;34m)\u001b[0m\u001b[0;34m\u001b[0m\u001b[0;34m\u001b[0m\u001b[0m\n\u001b[1;32m    852\u001b[0m     \u001b[0munpickler\u001b[0m\u001b[0;34m.\u001b[0m\u001b[0mpersistent_load\u001b[0m \u001b[0;34m=\u001b[0m \u001b[0mpersistent_load\u001b[0m\u001b[0;34m\u001b[0m\u001b[0;34m\u001b[0m\u001b[0m\n\u001b[0;32m--> 853\u001b[0;31m     \u001b[0mresult\u001b[0m \u001b[0;34m=\u001b[0m \u001b[0munpickler\u001b[0m\u001b[0;34m.\u001b[0m\u001b[0mload\u001b[0m\u001b[0;34m(\u001b[0m\u001b[0;34m)\u001b[0m\u001b[0;34m\u001b[0m\u001b[0;34m\u001b[0m\u001b[0m\n\u001b[0m\u001b[1;32m    854\u001b[0m \u001b[0;34m\u001b[0m\u001b[0m\n\u001b[1;32m    855\u001b[0m     \u001b[0mtorch\u001b[0m\u001b[0;34m.\u001b[0m\u001b[0m_utils\u001b[0m\u001b[0;34m.\u001b[0m\u001b[0m_validate_loaded_sparse_tensors\u001b[0m\u001b[0;34m(\u001b[0m\u001b[0;34m)\u001b[0m\u001b[0;34m\u001b[0m\u001b[0;34m\u001b[0m\u001b[0m\n",
      "\u001b[0;32m~/.conda/envs/nlp/lib/python3.7/site-packages/torch/serialization.py\u001b[0m in \u001b[0;36mpersistent_load\u001b[0;34m(saved_id)\u001b[0m\n\u001b[1;32m    843\u001b[0m         \u001b[0mdata_type\u001b[0m\u001b[0;34m,\u001b[0m \u001b[0mkey\u001b[0m\u001b[0;34m,\u001b[0m \u001b[0mlocation\u001b[0m\u001b[0;34m,\u001b[0m \u001b[0msize\u001b[0m \u001b[0;34m=\u001b[0m \u001b[0mdata\u001b[0m\u001b[0;34m\u001b[0m\u001b[0;34m\u001b[0m\u001b[0m\n\u001b[1;32m    844\u001b[0m         \u001b[0;32mif\u001b[0m \u001b[0mkey\u001b[0m \u001b[0;32mnot\u001b[0m \u001b[0;32min\u001b[0m \u001b[0mloaded_storages\u001b[0m\u001b[0;34m:\u001b[0m\u001b[0;34m\u001b[0m\u001b[0;34m\u001b[0m\u001b[0m\n\u001b[0;32m--> 845\u001b[0;31m             \u001b[0mload_tensor\u001b[0m\u001b[0;34m(\u001b[0m\u001b[0mdata_type\u001b[0m\u001b[0;34m,\u001b[0m \u001b[0msize\u001b[0m\u001b[0;34m,\u001b[0m \u001b[0mkey\u001b[0m\u001b[0;34m,\u001b[0m \u001b[0m_maybe_decode_ascii\u001b[0m\u001b[0;34m(\u001b[0m\u001b[0mlocation\u001b[0m\u001b[0;34m)\u001b[0m\u001b[0;34m)\u001b[0m\u001b[0;34m\u001b[0m\u001b[0;34m\u001b[0m\u001b[0m\n\u001b[0m\u001b[1;32m    846\u001b[0m         \u001b[0mstorage\u001b[0m \u001b[0;34m=\u001b[0m \u001b[0mloaded_storages\u001b[0m\u001b[0;34m[\u001b[0m\u001b[0mkey\u001b[0m\u001b[0;34m]\u001b[0m\u001b[0;34m\u001b[0m\u001b[0;34m\u001b[0m\u001b[0m\n\u001b[1;32m    847\u001b[0m         \u001b[0;32mreturn\u001b[0m \u001b[0mstorage\u001b[0m\u001b[0;34m\u001b[0m\u001b[0;34m\u001b[0m\u001b[0m\n",
      "\u001b[0;32m~/.conda/envs/nlp/lib/python3.7/site-packages/torch/serialization.py\u001b[0m in \u001b[0;36mload_tensor\u001b[0;34m(data_type, size, key, location)\u001b[0m\n\u001b[1;32m    832\u001b[0m \u001b[0;34m\u001b[0m\u001b[0m\n\u001b[1;32m    833\u001b[0m         \u001b[0mstorage\u001b[0m \u001b[0;34m=\u001b[0m \u001b[0mzip_file\u001b[0m\u001b[0;34m.\u001b[0m\u001b[0mget_storage_from_record\u001b[0m\u001b[0;34m(\u001b[0m\u001b[0mname\u001b[0m\u001b[0;34m,\u001b[0m \u001b[0msize\u001b[0m\u001b[0;34m,\u001b[0m \u001b[0mdtype\u001b[0m\u001b[0;34m)\u001b[0m\u001b[0;34m.\u001b[0m\u001b[0mstorage\u001b[0m\u001b[0;34m(\u001b[0m\u001b[0;34m)\u001b[0m\u001b[0;34m\u001b[0m\u001b[0;34m\u001b[0m\u001b[0m\n\u001b[0;32m--> 834\u001b[0;31m         \u001b[0mloaded_storages\u001b[0m\u001b[0;34m[\u001b[0m\u001b[0mkey\u001b[0m\u001b[0;34m]\u001b[0m \u001b[0;34m=\u001b[0m \u001b[0mrestore_location\u001b[0m\u001b[0;34m(\u001b[0m\u001b[0mstorage\u001b[0m\u001b[0;34m,\u001b[0m \u001b[0mlocation\u001b[0m\u001b[0;34m)\u001b[0m\u001b[0;34m\u001b[0m\u001b[0;34m\u001b[0m\u001b[0m\n\u001b[0m\u001b[1;32m    835\u001b[0m \u001b[0;34m\u001b[0m\u001b[0m\n\u001b[1;32m    836\u001b[0m     \u001b[0;32mdef\u001b[0m \u001b[0mpersistent_load\u001b[0m\u001b[0;34m(\u001b[0m\u001b[0msaved_id\u001b[0m\u001b[0;34m)\u001b[0m\u001b[0;34m:\u001b[0m\u001b[0;34m\u001b[0m\u001b[0;34m\u001b[0m\u001b[0m\n",
      "\u001b[0;32m~/.conda/envs/nlp/lib/python3.7/site-packages/torch/serialization.py\u001b[0m in \u001b[0;36mdefault_restore_location\u001b[0;34m(storage, location)\u001b[0m\n\u001b[1;32m    173\u001b[0m \u001b[0;32mdef\u001b[0m \u001b[0mdefault_restore_location\u001b[0m\u001b[0;34m(\u001b[0m\u001b[0mstorage\u001b[0m\u001b[0;34m,\u001b[0m \u001b[0mlocation\u001b[0m\u001b[0;34m)\u001b[0m\u001b[0;34m:\u001b[0m\u001b[0;34m\u001b[0m\u001b[0;34m\u001b[0m\u001b[0m\n\u001b[1;32m    174\u001b[0m     \u001b[0;32mfor\u001b[0m \u001b[0m_\u001b[0m\u001b[0;34m,\u001b[0m \u001b[0m_\u001b[0m\u001b[0;34m,\u001b[0m \u001b[0mfn\u001b[0m \u001b[0;32min\u001b[0m \u001b[0m_package_registry\u001b[0m\u001b[0;34m:\u001b[0m\u001b[0;34m\u001b[0m\u001b[0;34m\u001b[0m\u001b[0m\n\u001b[0;32m--> 175\u001b[0;31m         \u001b[0mresult\u001b[0m \u001b[0;34m=\u001b[0m \u001b[0mfn\u001b[0m\u001b[0;34m(\u001b[0m\u001b[0mstorage\u001b[0m\u001b[0;34m,\u001b[0m \u001b[0mlocation\u001b[0m\u001b[0;34m)\u001b[0m\u001b[0;34m\u001b[0m\u001b[0;34m\u001b[0m\u001b[0m\n\u001b[0m\u001b[1;32m    176\u001b[0m         \u001b[0;32mif\u001b[0m \u001b[0mresult\u001b[0m \u001b[0;32mis\u001b[0m \u001b[0;32mnot\u001b[0m \u001b[0;32mNone\u001b[0m\u001b[0;34m:\u001b[0m\u001b[0;34m\u001b[0m\u001b[0;34m\u001b[0m\u001b[0m\n\u001b[1;32m    177\u001b[0m             \u001b[0;32mreturn\u001b[0m \u001b[0mresult\u001b[0m\u001b[0;34m\u001b[0m\u001b[0;34m\u001b[0m\u001b[0m\n",
      "\u001b[0;32m~/.conda/envs/nlp/lib/python3.7/site-packages/torch/serialization.py\u001b[0m in \u001b[0;36m_cuda_deserialize\u001b[0;34m(obj, location)\u001b[0m\n\u001b[1;32m    155\u001b[0m                 \u001b[0;32mreturn\u001b[0m \u001b[0mstorage_type\u001b[0m\u001b[0;34m(\u001b[0m\u001b[0mobj\u001b[0m\u001b[0;34m.\u001b[0m\u001b[0msize\u001b[0m\u001b[0;34m(\u001b[0m\u001b[0;34m)\u001b[0m\u001b[0;34m)\u001b[0m\u001b[0;34m\u001b[0m\u001b[0;34m\u001b[0m\u001b[0m\n\u001b[1;32m    156\u001b[0m         \u001b[0;32melse\u001b[0m\u001b[0;34m:\u001b[0m\u001b[0;34m\u001b[0m\u001b[0;34m\u001b[0m\u001b[0m\n\u001b[0;32m--> 157\u001b[0;31m             \u001b[0;32mreturn\u001b[0m \u001b[0mobj\u001b[0m\u001b[0;34m.\u001b[0m\u001b[0mcuda\u001b[0m\u001b[0;34m(\u001b[0m\u001b[0mdevice\u001b[0m\u001b[0;34m)\u001b[0m\u001b[0;34m\u001b[0m\u001b[0;34m\u001b[0m\u001b[0m\n\u001b[0m\u001b[1;32m    158\u001b[0m \u001b[0;34m\u001b[0m\u001b[0m\n\u001b[1;32m    159\u001b[0m \u001b[0;34m\u001b[0m\u001b[0m\n",
      "\u001b[0;32m~/.conda/envs/nlp/lib/python3.7/site-packages/torch/_utils.py\u001b[0m in \u001b[0;36m_cuda\u001b[0;34m(self, device, non_blocking, **kwargs)\u001b[0m\n\u001b[1;32m     77\u001b[0m         \u001b[0;32melse\u001b[0m\u001b[0;34m:\u001b[0m\u001b[0;34m\u001b[0m\u001b[0;34m\u001b[0m\u001b[0m\n\u001b[1;32m     78\u001b[0m             \u001b[0mnew_type\u001b[0m \u001b[0;34m=\u001b[0m \u001b[0mgetattr\u001b[0m\u001b[0;34m(\u001b[0m\u001b[0mtorch\u001b[0m\u001b[0;34m.\u001b[0m\u001b[0mcuda\u001b[0m\u001b[0;34m,\u001b[0m \u001b[0mself\u001b[0m\u001b[0;34m.\u001b[0m\u001b[0m__class__\u001b[0m\u001b[0;34m.\u001b[0m\u001b[0m__name__\u001b[0m\u001b[0;34m)\u001b[0m\u001b[0;34m\u001b[0m\u001b[0;34m\u001b[0m\u001b[0m\n\u001b[0;32m---> 79\u001b[0;31m             \u001b[0;32mreturn\u001b[0m \u001b[0mnew_type\u001b[0m\u001b[0;34m(\u001b[0m\u001b[0mself\u001b[0m\u001b[0;34m.\u001b[0m\u001b[0msize\u001b[0m\u001b[0;34m(\u001b[0m\u001b[0;34m)\u001b[0m\u001b[0;34m)\u001b[0m\u001b[0;34m.\u001b[0m\u001b[0mcopy_\u001b[0m\u001b[0;34m(\u001b[0m\u001b[0mself\u001b[0m\u001b[0;34m,\u001b[0m \u001b[0mnon_blocking\u001b[0m\u001b[0;34m)\u001b[0m\u001b[0;34m\u001b[0m\u001b[0;34m\u001b[0m\u001b[0m\n\u001b[0m\u001b[1;32m     80\u001b[0m \u001b[0;34m\u001b[0m\u001b[0m\n\u001b[1;32m     81\u001b[0m \u001b[0;34m\u001b[0m\u001b[0m\n",
      "\u001b[0;32m~/.conda/envs/nlp/lib/python3.7/site-packages/torch/cuda/__init__.py\u001b[0m in \u001b[0;36m_lazy_new\u001b[0;34m(cls, *args, **kwargs)\u001b[0m\n\u001b[1;32m    460\u001b[0m     \u001b[0;31m# We may need to call lazy init again if we are a forked child\u001b[0m\u001b[0;34m\u001b[0m\u001b[0;34m\u001b[0m\u001b[0;34m\u001b[0m\u001b[0m\n\u001b[1;32m    461\u001b[0m     \u001b[0;31m# del _CudaBase.__new__\u001b[0m\u001b[0;34m\u001b[0m\u001b[0;34m\u001b[0m\u001b[0;34m\u001b[0m\u001b[0m\n\u001b[0;32m--> 462\u001b[0;31m     \u001b[0;32mreturn\u001b[0m \u001b[0msuper\u001b[0m\u001b[0;34m(\u001b[0m\u001b[0m_CudaBase\u001b[0m\u001b[0;34m,\u001b[0m \u001b[0mcls\u001b[0m\u001b[0;34m)\u001b[0m\u001b[0;34m.\u001b[0m\u001b[0m__new__\u001b[0m\u001b[0;34m(\u001b[0m\u001b[0mcls\u001b[0m\u001b[0;34m,\u001b[0m \u001b[0;34m*\u001b[0m\u001b[0margs\u001b[0m\u001b[0;34m,\u001b[0m \u001b[0;34m**\u001b[0m\u001b[0mkwargs\u001b[0m\u001b[0;34m)\u001b[0m\u001b[0;34m\u001b[0m\u001b[0;34m\u001b[0m\u001b[0m\n\u001b[0m\u001b[1;32m    463\u001b[0m \u001b[0;34m\u001b[0m\u001b[0m\n\u001b[1;32m    464\u001b[0m \u001b[0;34m\u001b[0m\u001b[0m\n",
      "\u001b[0;31mRuntimeError\u001b[0m: CUDA error: out of memory"
     ]
    }
   ],
   "source": [
    "# Loading Model\n",
    "from transformers import AutoTokenizer, AutoModelForSequenceClassification, BertTokenizer, BertForSequenceClassification\n",
    "\n",
    "for model_name, pretrained_key in zip(saved_model_filenames, model_pretrained_keys):\n",
    "    \n",
    "    if pretrained_key == 'distilbert-base-multilingual-cased':\n",
    "        tokenizer = BertTokenizer.from_pretrained(pretrained_key)\n",
    "        model = BertForSequenceClassification.from_pretrained(pretrained_key, num_labels=6)\n",
    "    else:\n",
    "        tokenizer = AutoTokenizer.from_pretrained(pretrained_key)\n",
    "        model = AutoModelForSequenceClassification.from_pretrained(pretrained_key, num_labels=6)\n",
    "        \n",
    "    state_dict = torch.load(os.path.join('../../finetuned_models/', model_name))\n",
    "    model.load_state_dict(state_dict)\n",
    "    model.eval()\n",
    "    \n",
    "    models.append(model)\n",
    "    tokenizers.append(tokenizer)"
   ]
  },
  {
   "cell_type": "markdown",
   "metadata": {},
   "source": [
    "### Dataset Stuff"
   ]
  },
  {
   "cell_type": "code",
   "execution_count": 14,
   "metadata": {
    "collapsed": true
   },
   "outputs": [
    {
     "ename": "NameError",
     "evalue": "name 'tokenizers' is not defined",
     "output_type": "error",
     "traceback": [
      "\u001b[0;31m---------------------------------------------------------------------------\u001b[0m",
      "\u001b[0;31mNameError\u001b[0m                                 Traceback (most recent call last)",
      "\u001b[0;32m<ipython-input-14-d3bb9acdeb8d>\u001b[0m in \u001b[0;36m<module>\u001b[0;34m\u001b[0m\n\u001b[1;32m     15\u001b[0m \u001b[0;34m\u001b[0m\u001b[0m\n\u001b[1;32m     16\u001b[0m \u001b[0;31m# Convert to Tensor\u001b[0m\u001b[0;34m\u001b[0m\u001b[0;34m\u001b[0m\u001b[0;34m\u001b[0m\u001b[0m\n\u001b[0;32m---> 17\u001b[0;31m \u001b[0mtrain_encodings\u001b[0m \u001b[0;34m=\u001b[0m \u001b[0;34m[\u001b[0m\u001b[0mtokenizer\u001b[0m\u001b[0;34m(\u001b[0m\u001b[0mtrain_batch_sentences\u001b[0m\u001b[0;34m,\u001b[0m \u001b[0mpadding\u001b[0m\u001b[0;34m=\u001b[0m\u001b[0;34m'max_length'\u001b[0m\u001b[0;34m,\u001b[0m \u001b[0mtruncation\u001b[0m\u001b[0;34m=\u001b[0m\u001b[0;32mTrue\u001b[0m\u001b[0;34m,\u001b[0m \u001b[0mmax_length\u001b[0m\u001b[0;34m=\u001b[0m\u001b[0;36m64\u001b[0m\u001b[0;34m,\u001b[0m \u001b[0mreturn_tensors\u001b[0m\u001b[0;34m=\u001b[0m\u001b[0;34m\"pt\"\u001b[0m\u001b[0;34m)\u001b[0m \u001b[0;32mfor\u001b[0m \u001b[0mtokenizer\u001b[0m \u001b[0;32min\u001b[0m \u001b[0mtokenizers\u001b[0m\u001b[0;34m]\u001b[0m\u001b[0;34m\u001b[0m\u001b[0;34m\u001b[0m\u001b[0m\n\u001b[0m\u001b[1;32m     18\u001b[0m \u001b[0mtrain_labels\u001b[0m \u001b[0;34m=\u001b[0m \u001b[0mtorch\u001b[0m\u001b[0;34m.\u001b[0m\u001b[0mtensor\u001b[0m\u001b[0;34m(\u001b[0m\u001b[0mtrain_batch_labels\u001b[0m\u001b[0;34m)\u001b[0m\u001b[0;34m\u001b[0m\u001b[0;34m\u001b[0m\u001b[0m\n\u001b[1;32m     19\u001b[0m \u001b[0mdev_encodings\u001b[0m \u001b[0;34m=\u001b[0m \u001b[0;34m[\u001b[0m\u001b[0mtokenizer\u001b[0m\u001b[0;34m(\u001b[0m\u001b[0mdev_batch_sentences\u001b[0m\u001b[0;34m,\u001b[0m \u001b[0mpadding\u001b[0m\u001b[0;34m=\u001b[0m\u001b[0;34m'max_length'\u001b[0m\u001b[0;34m,\u001b[0m \u001b[0mtruncation\u001b[0m\u001b[0;34m=\u001b[0m\u001b[0;32mTrue\u001b[0m\u001b[0;34m,\u001b[0m \u001b[0mmax_length\u001b[0m\u001b[0;34m=\u001b[0m\u001b[0;36m64\u001b[0m\u001b[0;34m,\u001b[0m \u001b[0mreturn_tensors\u001b[0m\u001b[0;34m=\u001b[0m\u001b[0;34m\"pt\"\u001b[0m\u001b[0;34m)\u001b[0m \u001b[0;32mfor\u001b[0m \u001b[0mtokenizer\u001b[0m \u001b[0;32min\u001b[0m \u001b[0mtokenizers\u001b[0m\u001b[0;34m]\u001b[0m\u001b[0;34m\u001b[0m\u001b[0;34m\u001b[0m\u001b[0m\n",
      "\u001b[0;31mNameError\u001b[0m: name 'tokenizers' is not defined"
     ]
    }
   ],
   "source": [
    "label_mapping = {\n",
    "    'Not_offensive': 0, \n",
    "    'not-Tamil': 1, \n",
    "    'Offensive_Targeted_Insult_Other': 2, \n",
    "    'Offensive_Targeted_Insult_Group': 3, \n",
    "    'Offensive_Untargetede': 4, \n",
    "    'Offensive_Targeted_Insult_Individual': 5\n",
    "}\n",
    "\n",
    "# Collecting Text and Labels\n",
    "train_batch_sentences = list(tamil_train['text'])\n",
    "train_batch_labels =  [label_mapping[x] for x in tamil_train['label']]\n",
    "dev_batch_sentences = list(tamil_dev['text'])\n",
    "dev_batch_labels =  [label_mapping[x] for x in tamil_dev['label']]\n",
    "\n",
    "# Convert to Tensor\n",
    "train_encodings = [tokenizer(train_batch_sentences, padding='max_length', truncation=True, max_length=64, return_tensors=\"pt\") for tokenizer in tokenizers]\n",
    "train_labels = torch.tensor(train_batch_labels)\n",
    "dev_encodings = [tokenizer(dev_batch_sentences, padding='max_length', truncation=True, max_length=64, return_tensors=\"pt\") for tokenizer in tokenizers]\n",
    "dev_labels = torch.tensor(dev_batch_labels)"
   ]
  },
  {
   "cell_type": "code",
   "execution_count": null,
   "metadata": {},
   "outputs": [],
   "source": [
    "# Dataset\n",
    "from torch.utils.data import Dataset\n",
    "\n",
    "class Tamil_Offensive_Dataset(Dataset):\n",
    "    def __init__(self, encodings, labels):\n",
    "        self.encodings = encodings\n",
    "        self.labels = labels\n",
    "\n",
    "    def __getitem__(self, idx):\n",
    "        item = {key: torch.tensor(val[idx]) for key, val in self.encodings.items()}\n",
    "        item['labels'] = torch.tensor(self.labels[idx])\n",
    "        return item\n",
    "\n",
    "    def __len__(self):\n",
    "        return len(self.labels)\n",
    "\n",
    "# Defining Datasets\n",
    "train_datasets = [Tamil_Offensive_Dataset(tenc, train_labels) for tenc in train_encodings]\n",
    "dev_datasets = [Tamil_Offensive_Dataset(denc, dev_labels) for denc in dev_encodings]"
   ]
  },
  {
   "cell_type": "code",
   "execution_count": null,
   "metadata": {},
   "outputs": [],
   "source": [
    "from torch.utils.data import DataLoader\n",
    "from tqdm.notebook import tqdm\n",
    "from sklearn.metrics import classification_report, f1_score\n",
    "\n",
    "device = torch.device('cuda') if torch.cuda.is_available() else torch.device('cpu')\n",
    "all_dev_preds = []\n",
    "\n",
    "for model, dev_dataset in tqdm(zip(models, dev_datasets), total = len(models)):\n",
    "    model.to(device)\n",
    "    # Dataloaders\n",
    "    dev_loader = DataLoader(dev_dataset, batch_size=16, shuffle=False)\n",
    "\n",
    "    dev_preds = []\n",
    "    with torch.set_grad_enabled(False):\n",
    "        for batch in tqdm(dev_loader):\n",
    "            input_ids = batch['input_ids'].to(device)\n",
    "            attention_mask = batch['attention_mask'].to(device)\n",
    "            labels = batch['labels'].to(device)\n",
    "            outputs = model(input_ids, attention_mask=attention_mask, labels=labels)\n",
    "\n",
    "            for logits in outputs[1].cpu().numpy():\n",
    "                dev_preds.append(np.exp(logits)/np.sum(np.exp(logits)))\n",
    "    \n",
    "    # Add All together\n",
    "    all_dev_preds.append(dev_preds)"
   ]
  },
  {
   "cell_type": "markdown",
   "metadata": {},
   "source": [
    "#### SAVE PREDS"
   ]
  },
  {
   "cell_type": "code",
   "execution_count": null,
   "metadata": {},
   "outputs": [],
   "source": [
    "for dev_preds, modelname in zip(all_dev_preds, saved_model_filenames):\n",
    "    np.save('../../model_prediction_probs/preds_'+modelname+'.npy', dev_preds)"
   ]
  },
  {
   "cell_type": "markdown",
   "metadata": {},
   "source": [
    "#### Load preds"
   ]
  },
  {
   "cell_type": "code",
   "execution_count": 11,
   "metadata": {},
   "outputs": [],
   "source": [
    "# Model Select\n",
    "import os\n",
    "from os import listdir\n",
    "from os.path import isfile, join\n",
    "xl = listdir('../../model_prediction_probs/')\n",
    "xo = [x for x in xl if 'GA' not in x and 'offensive' not in x and 'amil' in x and 'coll' not in x and 'fusion' not in x and 'final' not in x]"
   ]
  },
  {
   "cell_type": "code",
   "execution_count": 12,
   "metadata": {},
   "outputs": [
    {
     "data": {
      "text/plain": [
       "['Indic_bert_tamil_weighted.pth.npy',\n",
       " 'MURIL_cased_temp_Tamil.pth.npy',\n",
       " 'MURIL_cased_temp_tamil_weighted.pth.npy',\n",
       " 'XLMroberta_large_tamil_weighted.pth.npy',\n",
       " 'Mbert_base_cased_tamil_weighted.pth.npy',\n",
       " 'Distilbert_m_base_cased_tamil_weighted.pth.npy',\n",
       " 'XLMroberta_large_Tamil.pth.npy',\n",
       " 'Mbert_base_cased_Tamil[ 0.23034415  4.0278542  12.89977974  2.29037935  2.01531315  2.4995732 ].pth.npy',\n",
       " 'XLMroberta_base_Tamil.pth.npy',\n",
       " 'XLMroberta_custom_pretrained_tamil_weighted.pth.npy',\n",
       " 'XLMroberta_base_tamil_weighted.pth.npy',\n",
       " 'Mbert_base_cased_Tamil.pth.npy',\n",
       " 'Indic_bert_Tamil.pth.npy',\n",
       " 'XLMroberta_custom_pretrained_Tamil_Weighted[0.01 1.   1.   1.   1.   1.  ].pth.npy',\n",
       " 'XLMroberta_from_custom_pretrained_Tamil.pth.npy',\n",
       " 'Distilbert_m_base_cased_Tamil.pth.npy']"
      ]
     },
     "execution_count": 12,
     "metadata": {},
     "output_type": "execute_result"
    }
   ],
   "source": [
    "xo"
   ]
  },
  {
   "cell_type": "code",
   "execution_count": 13,
   "metadata": {},
   "outputs": [],
   "source": [
    "load_model_filenames = xo"
   ]
  },
  {
   "cell_type": "code",
   "execution_count": 14,
   "metadata": {},
   "outputs": [
    {
     "data": {
      "text/plain": [
       "16"
      ]
     },
     "execution_count": 14,
     "metadata": {},
     "output_type": "execute_result"
    }
   ],
   "source": [
    "len(load_model_filenames)"
   ]
  },
  {
   "cell_type": "code",
   "execution_count": 16,
   "metadata": {},
   "outputs": [],
   "source": [
    "load_model_filenames = [\n",
    "    'XLMroberta_large_tamil_weighted.pth.npy',\n",
    "    'Distilbert_m_base_cased_Tamil.pth.npy',\n",
    "    'XLMroberta_large_Tamil.pth.npy',\n",
    "    'Mbert_base_cased_Tamil[ 0.23034415  4.0278542  12.89977974  2.29037935  2.01531315  2.4995732 ].pth.npy',\n",
    "    'XLMroberta_base_Tamil.pth.npy',\n",
    "    'Indic_bert_Tamil.pth.npy',\n",
    "    'MURIL_cased_temp_Tamil.pth.npy',\n",
    "    'XLMroberta_from_custom_pretrained_Tamil.pth.npy',\n",
    "    'XLMroberta_custom_pretrained_tamil_weighted.pth.npy',\n",
    "    'Mbert_base_cased_tamil_weighted.pth.npy',\n",
    "    'XLMroberta_custom_pretrained_Tamil_Weighted[0.01 1.   1.   1.   1.   1.  ].pth.npy',\n",
    "    'MURIL_cased_temp_tamil_weighted.pth.npy',\n",
    "    'Indic_bert_tamil_weighted.pth.npy',\n",
    "    'XLMroberta_base_tamil_weighted.pth.npy',\n",
    "    'Mbert_base_cased_Tamil.pth.npy',\n",
    "    'Distilbert_m_base_cased_tamil_weighted.pth.npy'\n",
    "]\n",
    "\n",
    "model_pretrained_keys = [\n",
    "    'xlm-roberta-large',\n",
    "    'distilbert-base-multilingual-cased',\n",
    "    'xlm-roberta-large',\n",
    "    'bert-base-multilingual-cased',\n",
    "    'xlm-roberta-base',\n",
    "    'ai4bharat/indic-bert',\n",
    "    \"simran-kh/muril-cased-temp\",\n",
    "    'xlm-roberta-base',\n",
    "    'xlm-roberta-base',\n",
    "    'bert-base-multilingual-cased',\n",
    "    'xlm-roberta-base',\n",
    "    \"simran-kh/muril-cased-temp\",\n",
    "    'ai4bharat/indic-bert',\n",
    "    'xlm-roberta-base',\n",
    "    'bert-base-multilingual-cased',\n",
    "    'distilbert-base-multilingual-cased',\n",
    "]\n",
    "\n",
    "all_dev_preds = []\n",
    "for pred in load_model_filenames:\n",
    "    all_dev_preds.append(np.load('../../model_prediction_probs/' + pred))"
   ]
  },
  {
   "cell_type": "code",
   "execution_count": 17,
   "metadata": {},
   "outputs": [
    {
     "data": {
      "text/plain": [
       "16"
      ]
     },
     "execution_count": 17,
     "metadata": {},
     "output_type": "execute_result"
    }
   ],
   "source": [
    "len(load_model_filenames)"
   ]
  },
  {
   "cell_type": "code",
   "execution_count": 19,
   "metadata": {},
   "outputs": [],
   "source": [
    "from sklearn.metrics import classification_report, f1_score"
   ]
  },
  {
   "cell_type": "code",
   "execution_count": 20,
   "metadata": {},
   "outputs": [
    {
     "name": "stdout",
     "output_type": "stream",
     "text": [
      "XLMroberta_large_tamil_weighted.pth.npy\n",
      "                                      precision    recall  f1-score   support\n",
      "\n",
      "                       Not_offensive       0.00      0.00      0.00      3193\n",
      "                           not-Tamil       0.04      1.00      0.08       172\n",
      "     Offensive_Targeted_Insult_Other       0.00      0.00      0.00        65\n",
      "     Offensive_Targeted_Insult_Group       0.00      0.00      0.00       295\n",
      "               Offensive_Untargetede       0.00      0.00      0.00       356\n",
      "Offensive_Targeted_Insult_Individual       0.00      0.00      0.00       307\n",
      "\n",
      "                            accuracy                           0.04      4388\n",
      "                           macro avg       0.01      0.17      0.01      4388\n",
      "                        weighted avg       0.00      0.04      0.00      4388\n",
      "\n",
      "Distilbert_m_base_cased_Tamil.pth.npy\n",
      "                                      precision    recall  f1-score   support\n",
      "\n",
      "                       Not_offensive       0.85      0.91      0.88      3193\n",
      "                           not-Tamil       0.81      0.77      0.79       172\n",
      "     Offensive_Targeted_Insult_Other       0.00      0.00      0.00        65\n",
      "     Offensive_Targeted_Insult_Group       0.32      0.25      0.28       295\n",
      "               Offensive_Untargetede       0.41      0.35      0.38       356\n",
      "Offensive_Targeted_Insult_Individual       0.34      0.33      0.33       307\n",
      "\n",
      "                            accuracy                           0.76      4388\n",
      "                           macro avg       0.46      0.43      0.44      4388\n",
      "                        weighted avg       0.73      0.76      0.74      4388\n",
      "\n",
      "XLMroberta_large_Tamil.pth.npy\n",
      "                                      precision    recall  f1-score   support\n",
      "\n",
      "                       Not_offensive       0.88      0.91      0.89      3193\n",
      "                           not-Tamil       0.87      0.80      0.83       172\n",
      "     Offensive_Targeted_Insult_Other       0.00      0.00      0.00        65\n",
      "     Offensive_Targeted_Insult_Group       0.43      0.31      0.36       295\n",
      "               Offensive_Untargetede       0.45      0.44      0.45       356\n",
      "Offensive_Targeted_Insult_Individual       0.44      0.56      0.49       307\n",
      "\n",
      "                            accuracy                           0.79      4388\n",
      "                           macro avg       0.51      0.50      0.50      4388\n",
      "                        weighted avg       0.77      0.79      0.78      4388\n",
      "\n",
      "Mbert_base_cased_Tamil[ 0.23034415  4.0278542  12.89977974  2.29037935  2.01531315  2.4995732 ].pth.npy\n",
      "                                      precision    recall  f1-score   support\n",
      "\n",
      "                       Not_offensive       0.92      0.79      0.85      3193\n",
      "                           not-Tamil       0.83      0.87      0.85       172\n",
      "     Offensive_Targeted_Insult_Other       0.06      0.05      0.05        65\n",
      "     Offensive_Targeted_Insult_Group       0.28      0.54      0.37       295\n",
      "               Offensive_Untargetede       0.31      0.43      0.36       356\n",
      "Offensive_Targeted_Insult_Individual       0.36      0.40      0.38       307\n",
      "\n",
      "                            accuracy                           0.71      4388\n",
      "                           macro avg       0.46      0.51      0.48      4388\n",
      "                        weighted avg       0.77      0.71      0.73      4388\n",
      "\n",
      "XLMroberta_base_Tamil.pth.npy\n",
      "                                      precision    recall  f1-score   support\n",
      "\n",
      "                       Not_offensive       0.88      0.90      0.89      3193\n",
      "                           not-Tamil       0.81      0.84      0.83       172\n",
      "     Offensive_Targeted_Insult_Other       0.00      0.00      0.00        65\n",
      "     Offensive_Targeted_Insult_Group       0.39      0.32      0.35       295\n",
      "               Offensive_Untargetede       0.42      0.48      0.45       356\n",
      "Offensive_Targeted_Insult_Individual       0.46      0.43      0.44       307\n",
      "\n",
      "                            accuracy                           0.78      4388\n",
      "                           macro avg       0.49      0.50      0.49      4388\n",
      "                        weighted avg       0.76      0.78      0.77      4388\n",
      "\n",
      "Indic_bert_Tamil.pth.npy\n",
      "                                      precision    recall  f1-score   support\n",
      "\n",
      "                       Not_offensive       0.86      0.88      0.87      3193\n",
      "                           not-Tamil       0.80      0.74      0.77       172\n",
      "     Offensive_Targeted_Insult_Other       0.08      0.02      0.03        65\n",
      "     Offensive_Targeted_Insult_Group       0.26      0.29      0.28       295\n",
      "               Offensive_Untargetede       0.33      0.29      0.31       356\n",
      "Offensive_Targeted_Insult_Individual       0.32      0.36      0.34       307\n",
      "\n",
      "                            accuracy                           0.74      4388\n",
      "                           macro avg       0.44      0.43      0.43      4388\n",
      "                        weighted avg       0.73      0.74      0.73      4388\n",
      "\n",
      "MURIL_cased_temp_Tamil.pth.npy\n",
      "                                      precision    recall  f1-score   support\n",
      "\n",
      "                       Not_offensive       0.86      0.90      0.88      3193\n",
      "                           not-Tamil       0.70      0.80      0.74       172\n",
      "     Offensive_Targeted_Insult_Other       0.00      0.00      0.00        65\n",
      "     Offensive_Targeted_Insult_Group       0.33      0.27      0.30       295\n",
      "               Offensive_Untargetede       0.40      0.46      0.43       356\n",
      "Offensive_Targeted_Insult_Individual       0.41      0.25      0.31       307\n",
      "\n",
      "                            accuracy                           0.76      4388\n",
      "                           macro avg       0.45      0.45      0.44      4388\n",
      "                        weighted avg       0.74      0.76      0.75      4388\n",
      "\n",
      "XLMroberta_from_custom_pretrained_Tamil.pth.npy\n",
      "                                      precision    recall  f1-score   support\n",
      "\n",
      "                       Not_offensive       0.86      0.91      0.89      3193\n",
      "                           not-Tamil       0.87      0.76      0.81       172\n",
      "     Offensive_Targeted_Insult_Other       0.03      0.03      0.03        65\n",
      "     Offensive_Targeted_Insult_Group       0.39      0.31      0.35       295\n",
      "               Offensive_Untargetede       0.43      0.35      0.39       356\n",
      "Offensive_Targeted_Insult_Individual       0.46      0.41      0.44       307\n",
      "\n",
      "                            accuracy                           0.77      4388\n",
      "                           macro avg       0.51      0.46      0.48      4388\n",
      "                        weighted avg       0.76      0.77      0.76      4388\n",
      "\n",
      "XLMroberta_custom_pretrained_tamil_weighted.pth.npy\n",
      "                                      precision    recall  f1-score   support\n",
      "\n",
      "                       Not_offensive       0.92      0.80      0.86      3193\n",
      "                           not-Tamil       0.82      0.85      0.83       172\n",
      "     Offensive_Targeted_Insult_Other       0.07      0.09      0.08        65\n",
      "     Offensive_Targeted_Insult_Group       0.31      0.47      0.37       295\n",
      "               Offensive_Untargetede       0.42      0.42      0.42       356\n",
      "Offensive_Targeted_Insult_Individual       0.33      0.58      0.42       307\n",
      "\n",
      "                            accuracy                           0.72      4388\n",
      "                           macro avg       0.48      0.54      0.50      4388\n",
      "                        weighted avg       0.78      0.72      0.75      4388\n",
      "\n",
      "Mbert_base_cased_tamil_weighted.pth.npy\n",
      "                                      precision    recall  f1-score   support\n",
      "\n",
      "                       Not_offensive       0.91      0.80      0.85      3193\n",
      "                           not-Tamil       0.78      0.89      0.83       172\n",
      "     Offensive_Targeted_Insult_Other       0.06      0.17      0.09        65\n",
      "     Offensive_Targeted_Insult_Group       0.29      0.45      0.35       295\n",
      "               Offensive_Untargetede       0.32      0.31      0.32       356\n",
      "Offensive_Targeted_Insult_Individual       0.35      0.44      0.39       307\n",
      "\n",
      "                            accuracy                           0.71      4388\n",
      "                           macro avg       0.45      0.51      0.47      4388\n",
      "                        weighted avg       0.76      0.71      0.73      4388\n",
      "\n",
      "XLMroberta_custom_pretrained_Tamil_Weighted[0.01 1.   1.   1.   1.   1.  ].pth.npy\n",
      "                                      precision    recall  f1-score   support\n",
      "\n",
      "                       Not_offensive       0.96      0.60      0.74      3193\n",
      "                           not-Tamil       0.73      0.90      0.81       172\n",
      "     Offensive_Targeted_Insult_Other       0.04      0.09      0.05        65\n",
      "     Offensive_Targeted_Insult_Group       0.25      0.56      0.34       295\n",
      "               Offensive_Untargetede       0.24      0.56      0.34       356\n",
      "Offensive_Targeted_Insult_Individual       0.31      0.51      0.39       307\n",
      "\n",
      "                            accuracy                           0.60      4388\n",
      "                           macro avg       0.42      0.54      0.45      4388\n",
      "                        weighted avg       0.79      0.60      0.65      4388\n",
      "\n",
      "MURIL_cased_temp_tamil_weighted.pth.npy\n",
      "                                      precision    recall  f1-score   support\n",
      "\n",
      "                       Not_offensive       0.87      0.84      0.85      3193\n",
      "                           not-Tamil       0.65      0.84      0.73       172\n",
      "     Offensive_Targeted_Insult_Other       0.01      0.02      0.01        65\n",
      "     Offensive_Targeted_Insult_Group       0.31      0.31      0.31       295\n",
      "               Offensive_Untargetede       0.35      0.31      0.33       356\n",
      "Offensive_Targeted_Insult_Individual       0.31      0.39      0.34       307\n",
      "\n",
      "                            accuracy                           0.71      4388\n",
      "                           macro avg       0.41      0.45      0.43      4388\n",
      "                        weighted avg       0.73      0.71      0.72      4388\n",
      "\n",
      "Indic_bert_tamil_weighted.pth.npy\n",
      "                                      precision    recall  f1-score   support\n",
      "\n",
      "                       Not_offensive       0.88      0.78      0.83      3193\n",
      "                           not-Tamil       0.71      0.81      0.76       172\n",
      "     Offensive_Targeted_Insult_Other       0.08      0.03      0.04        65\n",
      "     Offensive_Targeted_Insult_Group       0.26      0.30      0.28       295\n",
      "               Offensive_Untargetede       0.26      0.46      0.34       356\n",
      "Offensive_Targeted_Insult_Individual       0.26      0.34      0.29       307\n",
      "\n",
      "                            accuracy                           0.68      4388\n",
      "                           macro avg       0.41      0.45      0.42      4388\n",
      "                        weighted avg       0.73      0.68      0.70      4388\n",
      "\n",
      "XLMroberta_base_tamil_weighted.pth.npy\n",
      "                                      precision    recall  f1-score   support\n",
      "\n",
      "                       Not_offensive       0.91      0.80      0.85      3193\n",
      "                           not-Tamil       0.78      0.85      0.82       172\n",
      "     Offensive_Targeted_Insult_Other       0.04      0.09      0.06        65\n",
      "     Offensive_Targeted_Insult_Group       0.26      0.48      0.34       295\n",
      "               Offensive_Untargetede       0.42      0.33      0.37       356\n",
      "Offensive_Targeted_Insult_Individual       0.36      0.50      0.42       307\n",
      "\n",
      "                            accuracy                           0.71      4388\n",
      "                           macro avg       0.46      0.51      0.47      4388\n",
      "                        weighted avg       0.77      0.71      0.73      4388\n",
      "\n",
      "Mbert_base_cased_Tamil.pth.npy\n",
      "                                      precision    recall  f1-score   support\n",
      "\n",
      "                       Not_offensive       0.84      0.94      0.88      3193\n",
      "                           not-Tamil       0.83      0.80      0.81       172\n",
      "     Offensive_Targeted_Insult_Other       0.00      0.00      0.00        65\n",
      "     Offensive_Targeted_Insult_Group       0.32      0.22      0.26       295\n",
      "               Offensive_Untargetede       0.36      0.40      0.38       356\n",
      "Offensive_Targeted_Insult_Individual       0.31      0.05      0.09       307\n",
      "\n",
      "                            accuracy                           0.76      4388\n",
      "                           macro avg       0.44      0.40      0.40      4388\n",
      "                        weighted avg       0.71      0.76      0.73      4388\n",
      "\n",
      "Distilbert_m_base_cased_tamil_weighted.pth.npy\n",
      "                                      precision    recall  f1-score   support\n",
      "\n",
      "                       Not_offensive       0.89      0.80      0.84      3193\n",
      "                           not-Tamil       0.83      0.81      0.82       172\n",
      "     Offensive_Targeted_Insult_Other       0.03      0.03      0.03        65\n",
      "     Offensive_Targeted_Insult_Group       0.20      0.46      0.28       295\n",
      "               Offensive_Untargetede       0.33      0.25      0.29       356\n",
      "Offensive_Targeted_Insult_Individual       0.31      0.31      0.31       307\n",
      "\n",
      "                            accuracy                           0.69      4388\n",
      "                           macro avg       0.43      0.45      0.43      4388\n",
      "                        weighted avg       0.74      0.69      0.71      4388\n",
      "\n"
     ]
    },
    {
     "name": "stderr",
     "output_type": "stream",
     "text": [
      "/home/punyajoy/.conda/envs/nlp/lib/python3.7/site-packages/sklearn/metrics/_classification.py:1221: UndefinedMetricWarning: Precision and F-score are ill-defined and being set to 0.0 in labels with no predicted samples. Use `zero_division` parameter to control this behavior.\n",
      "  _warn_prf(average, modifier, msg_start, len(result))\n"
     ]
    }
   ],
   "source": [
    "label_mapping = {\n",
    "    'Not_offensive': 0, \n",
    "    'not-Tamil': 1, \n",
    "    'Offensive_Targeted_Insult_Other': 2, \n",
    "    'Offensive_Targeted_Insult_Group': 3, \n",
    "    'Offensive_Untargetede': 4, \n",
    "    'Offensive_Targeted_Insult_Individual': 5\n",
    "}\n",
    "\n",
    "# Collecting Text and Labels\n",
    "train_batch_sentences = list(tamil_train['text'])\n",
    "train_batch_labels =  [label_mapping[x] for x in tamil_train['label']]\n",
    "dev_batch_sentences = list(tamil_dev['text'])\n",
    "dev_batch_labels =  [label_mapping[x] for x in tamil_dev['label']]\n",
    "\n",
    "for dev_preds, mn in zip(all_dev_preds, load_model_filenames):\n",
    "    final_dev_preds = np.argmax(dev_preds, axis = 1)\n",
    "    y_true = dev_batch_labels\n",
    "    y_pred = final_dev_preds\n",
    "    target_names = label_mapping.keys()\n",
    "    report = classification_report(y_true, y_pred, target_names=target_names)\n",
    "    print(mn)\n",
    "    print(report)"
   ]
  },
  {
   "cell_type": "markdown",
   "metadata": {},
   "source": [
    "### Averaging Ensemble"
   ]
  },
  {
   "cell_type": "code",
   "execution_count": 35,
   "metadata": {},
   "outputs": [],
   "source": [
    "all_dev_preds = np.array(all_dev_preds)\n",
    "# Initialise Weights\n",
    "w = np.ones(all_dev_preds.shape[0])\n",
    "softmax_w = np.exp(w)/np.sum(np.exp(w))\n",
    "\n",
    "weighted_all_dev_preds = np.array([sw*dpreds for sw, dpreds in zip(softmax_w, all_dev_preds)])\n",
    "weighted_dev_preds = np.sum(weighted_all_dev_preds, axis = 0)\n",
    "final_dev_preds = np.argmax(weighted_dev_preds, axis = 1)"
   ]
  },
  {
   "cell_type": "code",
   "execution_count": 37,
   "metadata": {},
   "outputs": [],
   "source": [
    "y_true = dev_batch_labels\n",
    "y_pred = final_dev_preds\n",
    "target_names = label_mapping.keys()\n",
    "report = classification_report(y_true, y_pred, target_names=target_names)"
   ]
  },
  {
   "cell_type": "code",
   "execution_count": 38,
   "metadata": {
    "scrolled": false
   },
   "outputs": [
    {
     "name": "stdout",
     "output_type": "stream",
     "text": [
      "                                      precision    recall  f1-score   support\n",
      "\n",
      "                       Not_offensive       0.89      0.91      0.90      3193\n",
      "                           not-Tamil       0.86      0.89      0.88       172\n",
      "     Offensive_Targeted_Insult_Other       0.00      0.00      0.00        65\n",
      "     Offensive_Targeted_Insult_Group       0.41      0.43      0.42       295\n",
      "               Offensive_Untargetede       0.48      0.46      0.47       356\n",
      "Offensive_Targeted_Insult_Individual       0.52      0.46      0.49       307\n",
      "\n",
      "                            accuracy                           0.80      4388\n",
      "                           macro avg       0.53      0.52      0.52      4388\n",
      "                        weighted avg       0.78      0.80      0.79      4388\n",
      "\n"
     ]
    }
   ],
   "source": [
    "print(report)"
   ]
  },
  {
   "cell_type": "markdown",
   "metadata": {},
   "source": [
    "### Optimising with GA"
   ]
  },
  {
   "cell_type": "code",
   "execution_count": 21,
   "metadata": {},
   "outputs": [
    {
     "name": "stdout",
     "output_type": "stream",
     "text": [
      " The best solution found:                                                                           \n",
      " [3.50287451 3.42714936 4.61306262 3.75668652 3.35036097 2.54784582\n",
      " 3.61279716 4.14064798 4.05667854 1.64868604 2.0621329  3.18505631\n",
      " 3.16007808 3.52470656 4.30048129 2.23459362]\n",
      "\n",
      " Objective function:\n",
      " 0.20088652621660652\n"
     ]
    },
    {
     "data": {
      "image/png": "[encoded data removed]",
      "text/plain": [
       "<Figure size 432x288 with 1 Axes>"
      ]
     },
     "metadata": {
      "needs_background": "light"
     },
     "output_type": "display_data"
    }
   ],
   "source": [
    "from geneticalgorithm import geneticalgorithm as ga\n",
    "\n",
    "def f(X):\n",
    "    softmax_w = np.exp(X)/np.sum(np.exp(X))\n",
    "    weighted_all_dev_preds = np.array([sw*dpreds for sw, dpreds in zip(softmax_w, all_dev_preds)])\n",
    "    weighted_dev_preds = np.sum(weighted_all_dev_preds, axis = 0)\n",
    "    final_dev_preds = np.argmax(weighted_dev_preds, axis = 1)\n",
    "\n",
    "    y_true = dev_batch_labels\n",
    "    y_pred = final_dev_preds\n",
    "    score = f1_score(y_true, y_pred, average='weighted')\n",
    "    return 1-score\n",
    "\n",
    "varbound=np.array([[0, 5]]*all_dev_preds.shape[0])\n",
    "\n",
    "model=ga(function=f,dimension=all_dev_preds.shape[0],variable_type='real',variable_boundaries=varbound)\n",
    "\n",
    "model.run()"
   ]
  },
  {
   "cell_type": "code",
   "execution_count": 24,
   "metadata": {},
   "outputs": [],
   "source": [
    "convergence=model.report\n",
    "solution=model.output_dict"
   ]
  },
  {
   "cell_type": "code",
   "execution_count": 25,
   "metadata": {},
   "outputs": [
    {
     "data": {
      "text/plain": [
       "{'variable': array([3.50287451, 3.42714936, 4.61306262, 3.75668652, 3.35036097,\n",
       "        2.54784582, 3.61279716, 4.14064798, 4.05667854, 1.64868604,\n",
       "        2.0621329 , 3.18505631, 3.16007808, 3.52470656, 4.30048129,\n",
       "        2.23459362]),\n",
       " 'function': 0.20088652621660652}"
      ]
     },
     "execution_count": 25,
     "metadata": {},
     "output_type": "execute_result"
    }
   ],
   "source": [
    "solution"
   ]
  },
  {
   "cell_type": "code",
   "execution_count": 39,
   "metadata": {
    "collapsed": true
   },
   "outputs": [
    {
     "ename": "NameError",
     "evalue": "name 'solution' is not defined",
     "output_type": "error",
     "traceback": [
      "\u001b[0;31m---------------------------------------------------------------------------\u001b[0m",
      "\u001b[0;31mNameError\u001b[0m                                 Traceback (most recent call last)",
      "\u001b[0;32m<ipython-input-39-58556f725262>\u001b[0m in \u001b[0;36m<module>\u001b[0;34m\u001b[0m\n\u001b[0;32m----> 1\u001b[0;31m \u001b[0mX\u001b[0m \u001b[0;34m=\u001b[0m \u001b[0msolution\u001b[0m\u001b[0;34m[\u001b[0m\u001b[0;34m'variable'\u001b[0m\u001b[0;34m]\u001b[0m\u001b[0;34m\u001b[0m\u001b[0;34m\u001b[0m\u001b[0m\n\u001b[0m",
      "\u001b[0;31mNameError\u001b[0m: name 'solution' is not defined"
     ]
    }
   ],
   "source": [
    "X = solution['variable']"
   ]
  },
  {
   "cell_type": "code",
   "execution_count": 40,
   "metadata": {},
   "outputs": [],
   "source": [
    "import pickle\n",
    "saved_model_filename = 'GA_tamil_v1'\n",
    "\n",
    "with open(\"../../dev_preds/weights_\" + saved_model_filename + \".pickle\", 'rb') as handle:\n",
    "    mw = pickle.load(handle)\n",
    "    \n",
    "X = [mw[index][0] for index in mw.keys()]"
   ]
  },
  {
   "cell_type": "code",
   "execution_count": 41,
   "metadata": {},
   "outputs": [
    {
     "data": {
      "text/plain": [
       "[3.502874513387141,\n",
       " 3.4271493615737363,\n",
       " 4.613062624093756,\n",
       " 3.756686520882169,\n",
       " 3.3503609716553395,\n",
       " 2.5478458171732794,\n",
       " 3.612797164824678,\n",
       " 4.140647982150272,\n",
       " 4.0566785354752835,\n",
       " 1.6486860434775181,\n",
       " 2.062132901324693,\n",
       " 3.1850563134890155,\n",
       " 3.1600780799724872,\n",
       " 3.5247065552175805,\n",
       " 4.3004812883262105,\n",
       " 2.2345936198354237]"
      ]
     },
     "execution_count": 41,
     "metadata": {},
     "output_type": "execute_result"
    }
   ],
   "source": [
    "X"
   ]
  },
  {
   "cell_type": "code",
   "execution_count": 46,
   "metadata": {},
   "outputs": [],
   "source": [
    "softmax_w = np.exp(X)/np.sum(np.exp(X))\n",
    "weighted_all_dev_preds = np.array([sw*dpreds for sw, dpreds in zip(softmax_w, all_dev_preds)])\n",
    "weighted_dev_preds = np.sum(weighted_all_dev_preds, axis = 0)\n",
    "final_dev_preds = np.argmax(weighted_dev_preds, axis = 1)\n",
    "\n",
    "y_true = dev_batch_labels\n",
    "y_pred = final_dev_preds\n",
    "target_names = label_mapping.keys()\n",
    "report = classification_report(y_true, y_pred, target_names=target_names)"
   ]
  },
  {
   "cell_type": "code",
   "execution_count": 47,
   "metadata": {
    "scrolled": false
   },
   "outputs": [
    {
     "name": "stdout",
     "output_type": "stream",
     "text": [
      "                                      precision    recall  f1-score   support\n",
      "\n",
      "                       Not_offensive       0.88      0.93      0.91      3193\n",
      "                           not-Tamil       0.87      0.87      0.87       172\n",
      "     Offensive_Targeted_Insult_Other       0.00      0.00      0.00        65\n",
      "     Offensive_Targeted_Insult_Group       0.49      0.41      0.44       295\n",
      "               Offensive_Untargetede       0.50      0.47      0.49       356\n",
      "Offensive_Targeted_Insult_Individual       0.55      0.49      0.52       307\n",
      "\n",
      "                            accuracy                           0.81      4388\n",
      "                           macro avg       0.55      0.53      0.54      4388\n",
      "                        weighted avg       0.79      0.81      0.80      4388\n",
      "\n"
     ]
    }
   ],
   "source": [
    "print(report)"
   ]
  },
  {
   "cell_type": "code",
   "execution_count": 48,
   "metadata": {},
   "outputs": [
    {
     "data": {
      "text/plain": [
       "0.5369532213406898"
      ]
     },
     "execution_count": 48,
     "metadata": {},
     "output_type": "execute_result"
    }
   ],
   "source": [
    "f1_score(y_true, y_pred, average='macro')"
   ]
  },
  {
   "cell_type": "markdown",
   "metadata": {},
   "source": [
    "### Save stuff"
   ]
  },
  {
   "cell_type": "code",
   "execution_count": 49,
   "metadata": {
    "scrolled": true
   },
   "outputs": [],
   "source": [
    "saved_model_filename = 'GA_tamil_v1'\n",
    "np.savetxt(\"../../dev_preds/\" + saved_model_filename + \".csv\", final_dev_preds, delimiter=\",\")"
   ]
  },
  {
   "cell_type": "code",
   "execution_count": 50,
   "metadata": {},
   "outputs": [],
   "source": [
    "np.save(\"../../model_prediction_probs/\"+saved_model_filename+\".npy\", weighted_dev_preds)"
   ]
  },
  {
   "cell_type": "code",
   "execution_count": 30,
   "metadata": {},
   "outputs": [],
   "source": [
    "a = {x:(y,z) for x, y, z in zip(load_model_filenames, np.array(solution['variable']), model_pretrained_keys)}"
   ]
  },
  {
   "cell_type": "code",
   "execution_count": 32,
   "metadata": {},
   "outputs": [],
   "source": [
    "import pickle\n",
    "with open(\"../../dev_preds/weights_\" + saved_model_filename + \".pickle\", 'wb') as handle:\n",
    "    pickle.dump(a, handle, protocol=pickle.HIGHEST_PROTOCOL)"
   ]
  },
  {
   "cell_type": "code",
   "execution_count": null,
   "metadata": {},
   "outputs": [],
   "source": []
  }
 ],
 "metadata": {
  "kernelspec": {
   "display_name": "Python [conda env:.conda-nlp]",
   "language": "python",
   "name": "conda-env-.conda-nlp-py"
  },
  "language_info": {
   "codemirror_mode": {
    "name": "ipython",
    "version": 3
   },
   "file_extension": ".py",
   "mimetype": "text/x-python",
   "name": "python",
   "nbconvert_exporter": "python",
   "pygments_lexer": "ipython3",
   "version": "3.7.9"
  }
 },
 "nbformat": 4,
 "nbformat_minor": 4
}
