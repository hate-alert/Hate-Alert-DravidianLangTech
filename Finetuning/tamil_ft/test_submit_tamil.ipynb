{
 "cells": [
  {
   "cell_type": "markdown",
   "metadata": {},
   "source": [
    "### Script for generating prediction CSV files for Dev and Test sets"
   ]
  },
  {
   "cell_type": "code",
   "execution_count": 1,
   "metadata": {},
   "outputs": [],
   "source": [
    "import pandas as pd\n",
    "import numpy as np"
   ]
  },
  {
   "cell_type": "code",
   "execution_count": 2,
   "metadata": {},
   "outputs": [],
   "source": [
    "# Reading CSV from link\n",
    "def read_csv_from_link(url):\n",
    "    path = 'https://drive.google.com/uc?export=download&id='+url.split('/')[-2]\n",
    "    df = pd.read_csv(path,delimiter=\"\\t\",error_bad_lines=False, header=None)\n",
    "    return df"
   ]
  },
  {
   "cell_type": "code",
   "execution_count": 49,
   "metadata": {},
   "outputs": [],
   "source": [
    "# Loading All Data\n",
    "# tamil_train = read_csv_from_link('https://drive.google.com/file/d/15auwrFAlq52JJ61u7eSfnhT9rZtI5sjk/view?usp=sharing')\n",
    "tamil_dev = read_csv_from_link('https://drive.google.com/file/d/1Jme-Oftjm7OgfMNLKQs1mO_cnsQmznRI/view?usp=sharing')\n",
    "# yalam_train = read_csv_from_link('https://drive.google.com/file/d/13JCCr-IjZK7uhbLXeufptr_AxvsKinVl/view?usp=sharing')\n",
    "# yalam_dev = read_csv_from_link('https://drive.google.com/file/d/1J0msLpLoM6gmXkjC6DFeQ8CG_rrLvjnM/view?usp=sharing')\n",
    "# kannada_train = read_csv_from_link('https://drive.google.com/file/d/1BFYF05rx-DK9Eb5hgoIgd6EcB8zOI-zu/view?usp=sharing')\n",
    "# kannada_dev = read_csv_from_link('https://drive.google.com/file/d/1V077dMQvscqpUmcWTcFHqRa_vTy-bQ4H/view?usp=sharing')"
   ]
  },
  {
   "cell_type": "code",
   "execution_count": 50,
   "metadata": {},
   "outputs": [
    {
     "name": "stderr",
     "output_type": "stream",
     "text": [
      "b'Skipping line 778: expected 2 fields, saw 3\\n'\n"
     ]
    }
   ],
   "source": [
    "# Test\n",
    "tamil_test = read_csv_from_link('https://drive.google.com/file/d/10RHrqXvIKMdnvN_tVJa_FAm41zaeC8WN/view?usp=sharing')\n",
    "malayalam_test = read_csv_from_link('https://drive.google.com/file/d/1zx1wCC9A-Pp80mzbqixb52WlWQQ7ATyJ/view?usp=sharing')\n",
    "kannada_test = read_csv_from_link('https://drive.google.com/file/d/1Px2CvIkLP_xaNhz_fCofW-7GGBCnSYsa/view?usp=sharing')"
   ]
  },
  {
   "cell_type": "code",
   "execution_count": 51,
   "metadata": {},
   "outputs": [],
   "source": [
    "split = 'test'"
   ]
  },
  {
   "cell_type": "code",
   "execution_count": 52,
   "metadata": {},
   "outputs": [],
   "source": [
    "tamil_test = tamil_dev\n",
    "split = 'dev'"
   ]
  },
  {
   "cell_type": "code",
   "execution_count": 53,
   "metadata": {},
   "outputs": [],
   "source": [
    "# Mal Preprocess\n",
    "tamil_test = tamil_test.iloc[:, 0:2]\n",
    "tamil_test = tamil_test.rename(columns={0: \"text\", 1: \"GT_label\"})"
   ]
  },
  {
   "cell_type": "code",
   "execution_count": 54,
   "metadata": {},
   "outputs": [],
   "source": [
    "# Test\n",
    "# tamil_test_labels = read_csv_from_link('https://drive.google.com/file/d/17o-spkU5JnI_18qDJXO-F_DoIG9Zzv9q/view?usp=sharing')\n",
    "# malayalam_test_labels = read_csv_from_link('https://drive.google.com/file/d/1waRFe4yTG8TMkMruICaavd9JH0xiO_rb/view?usp=sharing')\n",
    "# kannada_test_labels = read_csv_from_link('https://drive.google.com/file/d/14DQvnNZCXSgmiZxJqGtPYFdRqBH7TOSr/view?usp=sharing')"
   ]
  },
  {
   "cell_type": "code",
   "execution_count": 55,
   "metadata": {},
   "outputs": [
    {
     "data": {
      "text/html": [
       "<div>\n",
       "<style scoped>\n",
       "    .dataframe tbody tr th:only-of-type {\n",
       "        vertical-align: middle;\n",
       "    }\n",
       "\n",
       "    .dataframe tbody tr th {\n",
       "        vertical-align: top;\n",
       "    }\n",
       "\n",
       "    .dataframe thead th {\n",
       "        text-align: right;\n",
       "    }\n",
       "</style>\n",
       "<table border=\"1\" class=\"dataframe\">\n",
       "  <thead>\n",
       "    <tr style=\"text-align: right;\">\n",
       "      <th></th>\n",
       "      <th>text</th>\n",
       "      <th>GT_label</th>\n",
       "    </tr>\n",
       "  </thead>\n",
       "  <tbody>\n",
       "    <tr>\n",
       "      <th>0</th>\n",
       "      <td>Handsome hunk  keri vaa thalaivaa</td>\n",
       "      <td>Not_offensive</td>\n",
       "    </tr>\n",
       "    <tr>\n",
       "      <th>1</th>\n",
       "      <td>தென்காசி மாவட்டம் நாடார் சமுதாயம் சார்பாக வாழ்...</td>\n",
       "      <td>Not_offensive</td>\n",
       "    </tr>\n",
       "    <tr>\n",
       "      <th>2</th>\n",
       "      <td>je vous aime bravo pour clip de merde que j éc...</td>\n",
       "      <td>not-Tamil</td>\n",
       "    </tr>\n",
       "    <tr>\n",
       "      <th>3</th>\n",
       "      <td>சிறப்பு..... மேலும் இது போன்ற படைப்புகள் மிக அ...</td>\n",
       "      <td>Not_offensive</td>\n",
       "    </tr>\n",
       "    <tr>\n",
       "      <th>4</th>\n",
       "      <td>Vera level BGM .. semma  trailer. 🤞</td>\n",
       "      <td>Not_offensive</td>\n",
       "    </tr>\n",
       "    <tr>\n",
       "      <th>...</th>\n",
       "      <td>...</td>\n",
       "      <td>...</td>\n",
       "    </tr>\n",
       "    <tr>\n",
       "      <th>4383</th>\n",
       "      <td>மிஷ்கின்  - சினிமாவின் சலித்து போன வட்டத்திற்க...</td>\n",
       "      <td>Not_offensive</td>\n",
       "    </tr>\n",
       "    <tr>\n",
       "      <th>4384</th>\n",
       "      <td>Sivaji - Bhajii Sapdu Petta - Sweet Sapdu  Ser...</td>\n",
       "      <td>Not_offensive</td>\n",
       "    </tr>\n",
       "    <tr>\n",
       "      <th>4385</th>\n",
       "      <td>8k dislike sure all vijay fans</td>\n",
       "      <td>Offensive_Targeted_Insult_Other</td>\n",
       "    </tr>\n",
       "    <tr>\n",
       "      <th>4386</th>\n",
       "      <td>Lady super star Manju warrier Fans Hit like</td>\n",
       "      <td>Not_offensive</td>\n",
       "    </tr>\n",
       "    <tr>\n",
       "      <th>4387</th>\n",
       "      <td>Very nice .......kandippa theater la paakanum paa</td>\n",
       "      <td>Not_offensive</td>\n",
       "    </tr>\n",
       "  </tbody>\n",
       "</table>\n",
       "<p>4388 rows × 2 columns</p>\n",
       "</div>"
      ],
      "text/plain": [
       "                                                   text  \\\n",
       "0                     Handsome hunk  keri vaa thalaivaa   \n",
       "1     தென்காசி மாவட்டம் நாடார் சமுதாயம் சார்பாக வாழ்...   \n",
       "2     je vous aime bravo pour clip de merde que j éc...   \n",
       "3     சிறப்பு..... மேலும் இது போன்ற படைப்புகள் மிக அ...   \n",
       "4                   Vera level BGM .. semma  trailer. 🤞   \n",
       "...                                                 ...   \n",
       "4383  மிஷ்கின்  - சினிமாவின் சலித்து போன வட்டத்திற்க...   \n",
       "4384  Sivaji - Bhajii Sapdu Petta - Sweet Sapdu  Ser...   \n",
       "4385                     8k dislike sure all vijay fans   \n",
       "4386        Lady super star Manju warrier Fans Hit like   \n",
       "4387  Very nice .......kandippa theater la paakanum paa   \n",
       "\n",
       "                             GT_label  \n",
       "0                       Not_offensive  \n",
       "1                       Not_offensive  \n",
       "2                           not-Tamil  \n",
       "3                       Not_offensive  \n",
       "4                       Not_offensive  \n",
       "...                               ...  \n",
       "4383                    Not_offensive  \n",
       "4384                    Not_offensive  \n",
       "4385  Offensive_Targeted_Insult_Other  \n",
       "4386                    Not_offensive  \n",
       "4387                    Not_offensive  \n",
       "\n",
       "[4388 rows x 2 columns]"
      ]
     },
     "execution_count": 55,
     "metadata": {},
     "output_type": "execute_result"
    }
   ],
   "source": [
    "tamil_test"
   ]
  },
  {
   "cell_type": "markdown",
   "metadata": {},
   "source": [
    "### Load Model"
   ]
  },
  {
   "cell_type": "code",
   "execution_count": 10,
   "metadata": {},
   "outputs": [],
   "source": [
    "import torch"
   ]
  },
  {
   "cell_type": "code",
   "execution_count": 7,
   "metadata": {
    "scrolled": true
   },
   "outputs": [
    {
     "name": "stdout",
     "output_type": "stream",
     "text": [
      "GPU Nos: 2\n",
      "Tesla P100-PCIE-12GB\n",
      "Tesla P100-PCIE-16GB\n"
     ]
    }
   ],
   "source": [
    "print(\"GPU Nos: {}\".format(torch.cuda.device_count()))\n",
    "print(torch.cuda.get_device_name(0))\n",
    "print(torch.cuda.get_device_name(1))\n",
    "\n",
    "# Change Device - CPU/GPU-0/GPU-1\n",
    "torch.cuda.set_device(0)\n",
    "device = 'cuda'\n",
    "device = device if torch.cuda.is_available() else 'cpu'"
   ]
  },
  {
   "cell_type": "code",
   "execution_count": 8,
   "metadata": {},
   "outputs": [],
   "source": [
    "# Load"
   ]
  },
  {
   "cell_type": "code",
   "execution_count": 27,
   "metadata": {},
   "outputs": [],
   "source": [
    "import pickle\n",
    "saved_model_filename = 'GA_tamil_v1'\n",
    "\n",
    "with open(\"../../dev_preds/weights_\" + saved_model_filename + \".pickle\", 'rb') as handle:\n",
    "    mw = pickle.load(handle)"
   ]
  },
  {
   "cell_type": "code",
   "execution_count": 28,
   "metadata": {},
   "outputs": [
    {
     "data": {
      "text/plain": [
       "{'XLMroberta_large_tamil_weighted.pth': (3.502874513387141,\n",
       "  'xlm-roberta-large'),\n",
       " 'Distilbert_m_base_cased_Tamil.pth': (3.4271493615737363,\n",
       "  'distilbert-base-multilingual-cased'),\n",
       " 'XLMroberta_large_Tamil.pth': (4.613062624093756, 'xlm-roberta-large'),\n",
       " 'Mbert_base_cased_Tamil[ 0.23034415  4.0278542  12.89977974  2.29037935  2.01531315  2.4995732 ].pth': (3.756686520882169,\n",
       "  'bert-base-multilingual-cased'),\n",
       " 'XLMroberta_base_Tamil.pth': (3.3503609716553395, 'xlm-roberta-base'),\n",
       " 'Indic_bert_Tamil.pth': (2.5478458171732794, 'ai4bharat/indic-bert'),\n",
       " 'MURIL_cased_temp_Tamil.pth': (3.612797164824678,\n",
       "  'simran-kh/muril-cased-temp'),\n",
       " 'XLMroberta_from_custom_pretrained_Tamil.pth': (4.140647982150272,\n",
       "  'xlm-roberta-base'),\n",
       " 'XLMroberta_custom_pretrained_tamil_weighted.pth': (4.0566785354752835,\n",
       "  'xlm-roberta-base'),\n",
       " 'Mbert_base_cased_tamil_weighted.pth': (1.6486860434775181,\n",
       "  'bert-base-multilingual-cased'),\n",
       " 'XLMroberta_custom_pretrained_Tamil_Weighted[0.01 1.   1.   1.   1.   1.  ].pth': (2.062132901324693,\n",
       "  'xlm-roberta-base'),\n",
       " 'MURIL_cased_temp_tamil_weighted.pth': (3.1850563134890155,\n",
       "  'simran-kh/muril-cased-temp'),\n",
       " 'Indic_bert_tamil_weighted.pth': (3.1600780799724872, 'ai4bharat/indic-bert'),\n",
       " 'XLMroberta_base_tamil_weighted.pth': (3.5247065552175805,\n",
       "  'xlm-roberta-base'),\n",
       " 'Mbert_base_cased_Tamil.pth': (4.3004812883262105,\n",
       "  'bert-base-multilingual-cased'),\n",
       " 'Distilbert_m_base_cased_tamil_weighted.pth': (2.2345936198354237,\n",
       "  'distilbert-base-multilingual-cased')}"
      ]
     },
     "execution_count": 28,
     "metadata": {},
     "output_type": "execute_result"
    }
   ],
   "source": [
    "mw"
   ]
  },
  {
   "cell_type": "code",
   "execution_count": 29,
   "metadata": {},
   "outputs": [],
   "source": [
    "all_probs = []\n",
    "import os"
   ]
  },
  {
   "cell_type": "code",
   "execution_count": 30,
   "metadata": {},
   "outputs": [],
   "source": [
    "label_mapping = {\n",
    "    'Not_offensive': 0, \n",
    "    'not-Tamil': 1, \n",
    "    'Offensive_Targeted_Insult_Other': 2, \n",
    "    'Offensive_Targeted_Insult_Group': 3, \n",
    "    'Offensive_Untargetede': 4, \n",
    "    'Offensive_Targeted_Insult_Individual': 5\n",
    "}"
   ]
  },
  {
   "cell_type": "code",
   "execution_count": 13,
   "metadata": {},
   "outputs": [
    {
     "data": {
      "application/vnd.jupyter.widget-view+json": {
       "model_id": "6e15a4f9127a4a3db4e8f7099b909916",
       "version_major": 2,
       "version_minor": 0
      },
      "text/plain": [
       "HBox(children=(HTML(value=''), FloatProgress(value=0.0, max=16.0), HTML(value='')))"
      ]
     },
     "metadata": {},
     "output_type": "display_data"
    },
    {
     "name": "stdout",
     "output_type": "stream",
     "text": [
      "\n"
     ]
    }
   ],
   "source": [
    "# Loading Model\n",
    "from transformers import AutoTokenizer, AutoModelForSequenceClassification, BertTokenizer, BertForSequenceClassification\n",
    "from tqdm.notebook import tqdm\n",
    "\n",
    "for index in tqdm(mw.keys()):\n",
    "    model_name = index\n",
    "    pretrained_key = mw[index][1]\n",
    "    try:\n",
    "        test_preds = np.load(\"../../test_probs/\"+model_name+\".npy\")\n",
    "        all_probs.append(test_preds)\n",
    "        continue\n",
    "    except:\n",
    "        pass\n",
    "\n",
    "    if pretrained_key == 'distilbert-base-multilingual-cased':\n",
    "        tokenizer = BertTokenizer.from_pretrained(pretrained_key)\n",
    "        model = BertForSequenceClassification.from_pretrained(pretrained_key, num_labels=6)\n",
    "    else:\n",
    "        tokenizer = AutoTokenizer.from_pretrained(pretrained_key)\n",
    "        model = AutoModelForSequenceClassification.from_pretrained(pretrained_key, num_labels=6)\n",
    "\n",
    "    state_dict = torch.load(os.path.join('../../finetuned_models/', model_name))\n",
    "    model.load_state_dict(state_dict)\n",
    "    model.eval()\n",
    "\n",
    "    # Collecting Text and Labels\n",
    "    test_batch_sentences = list(tamil_test['text'])\n",
    "\n",
    "    # Convert to Tensor\n",
    "    test_encodings = tokenizer(test_batch_sentences, padding='max_length', truncation=True, max_length=64, return_tensors=\"pt\")\n",
    "\n",
    "    # Dataset\n",
    "    from torch.utils.data import Dataset\n",
    "\n",
    "    class tamil_Offensive_Dataset(Dataset):\n",
    "        def __init__(self, encodings):\n",
    "            self.encodings = encodings\n",
    "\n",
    "        def __getitem__(self, idx):\n",
    "            item = {key: torch.tensor(val[idx]) for key, val in self.encodings.items()}\n",
    "            item['labels'] = torch.tensor(1) # Label is irrelevant, since we need predictions\n",
    "            return item\n",
    "\n",
    "        def __len__(self):\n",
    "            return len(self.encodings[\"input_ids\"])\n",
    "\n",
    "    # Defining Datasets\n",
    "    test_dataset = tamil_Offensive_Dataset(test_encodings)\n",
    "\n",
    "    ### Run Models-1\n",
    "    from torch.utils.data import DataLoader\n",
    "    from tqdm.notebook import tqdm\n",
    "    from sklearn.metrics import classification_report, f1_score\n",
    "\n",
    "    device = torch.device('cuda') if torch.cuda.is_available() else torch.device('cpu')\n",
    "    model.to(device)\n",
    "\n",
    "    # Dataloaders\n",
    "    test_loader = DataLoader(test_dataset, batch_size=16, shuffle=False)\n",
    "\n",
    "    test_preds = []\n",
    "    with torch.set_grad_enabled(False):\n",
    "        for batch in tqdm(test_loader):\n",
    "            input_ids = batch['input_ids'].to(device)\n",
    "            attention_mask = batch['attention_mask'].to(device)\n",
    "            labels = batch['labels'].to(device)\n",
    "            outputs = model(input_ids, attention_mask=attention_mask, labels=labels)\n",
    "\n",
    "            for logits in outputs[1].cpu().numpy():\n",
    "                test_preds.append(np.exp(logits)/np.sum(np.exp(logits)))\n",
    "\n",
    "    np.save(\"../../test_probs/\"+model_name+\".npy\", test_preds)\n",
    "    all_probs.append(test_preds)\n",
    "    del model\n",
    "    torch.cuda.empty_cache()"
   ]
  },
  {
   "cell_type": "code",
   "execution_count": 56,
   "metadata": {},
   "outputs": [
    {
     "data": {
      "text/plain": [
       "'dev'"
      ]
     },
     "execution_count": 56,
     "metadata": {},
     "output_type": "execute_result"
    }
   ],
   "source": [
    "split"
   ]
  },
  {
   "cell_type": "code",
   "execution_count": 58,
   "metadata": {},
   "outputs": [],
   "source": [
    "all_probs = []\n",
    "if split == 'test':\n",
    "    for k in mw.keys():\n",
    "        all_probs.append(np.load(\"../../test_probs/\"+k+\".npy\"))\n",
    "else:\n",
    "    for k in mw.keys():\n",
    "        all_probs.append(np.load(\"../../model_prediction_probs/\"+k+\".npy\"))"
   ]
  },
  {
   "cell_type": "code",
   "execution_count": 59,
   "metadata": {},
   "outputs": [],
   "source": [
    "weights = [mw[index][0] for index in mw.keys()]"
   ]
  },
  {
   "cell_type": "code",
   "execution_count": 60,
   "metadata": {},
   "outputs": [],
   "source": [
    "inverse_label_mapping = {v: k for k, v in label_mapping.items()}"
   ]
  },
  {
   "cell_type": "code",
   "execution_count": 61,
   "metadata": {},
   "outputs": [],
   "source": [
    "X = weights\n",
    "all_dev_preds = np.array(all_probs)\n",
    "\n",
    "softmax_w = np.exp(X)/np.sum(np.exp(X))\n",
    "weighted_all_dev_preds = np.array([sw*dpreds for sw, dpreds in zip(softmax_w, all_dev_preds)])\n",
    "weighted_dev_preds = np.sum(weighted_all_dev_preds, axis = 0)\n",
    "final_dev_preds = np.argmax(weighted_dev_preds, axis = 1)\n",
    "\n",
    "final_dev_pred_labels = [inverse_label_mapping[int(k)] for k in final_dev_preds]\n",
    "saved_model_filename = 'test_GA_v1_tamil'\n",
    "tamil_test['labels'] = final_dev_pred_labels"
   ]
  },
  {
   "cell_type": "code",
   "execution_count": 62,
   "metadata": {},
   "outputs": [],
   "source": [
    "tamil_test.index.name = 'id'"
   ]
  },
  {
   "cell_type": "code",
   "execution_count": 63,
   "metadata": {},
   "outputs": [
    {
     "data": {
      "text/html": [
       "<div>\n",
       "<style scoped>\n",
       "    .dataframe tbody tr th:only-of-type {\n",
       "        vertical-align: middle;\n",
       "    }\n",
       "\n",
       "    .dataframe tbody tr th {\n",
       "        vertical-align: top;\n",
       "    }\n",
       "\n",
       "    .dataframe thead th {\n",
       "        text-align: right;\n",
       "    }\n",
       "</style>\n",
       "<table border=\"1\" class=\"dataframe\">\n",
       "  <thead>\n",
       "    <tr style=\"text-align: right;\">\n",
       "      <th></th>\n",
       "      <th>text</th>\n",
       "      <th>GT_label</th>\n",
       "      <th>labels</th>\n",
       "    </tr>\n",
       "    <tr>\n",
       "      <th>id</th>\n",
       "      <th></th>\n",
       "      <th></th>\n",
       "      <th></th>\n",
       "    </tr>\n",
       "  </thead>\n",
       "  <tbody>\n",
       "    <tr>\n",
       "      <th>0</th>\n",
       "      <td>Handsome hunk  keri vaa thalaivaa</td>\n",
       "      <td>Not_offensive</td>\n",
       "      <td>Not_offensive</td>\n",
       "    </tr>\n",
       "    <tr>\n",
       "      <th>1</th>\n",
       "      <td>தென்காசி மாவட்டம் நாடார் சமுதாயம் சார்பாக வாழ்...</td>\n",
       "      <td>Not_offensive</td>\n",
       "      <td>Not_offensive</td>\n",
       "    </tr>\n",
       "    <tr>\n",
       "      <th>2</th>\n",
       "      <td>je vous aime bravo pour clip de merde que j éc...</td>\n",
       "      <td>not-Tamil</td>\n",
       "      <td>not-Tamil</td>\n",
       "    </tr>\n",
       "    <tr>\n",
       "      <th>3</th>\n",
       "      <td>சிறப்பு..... மேலும் இது போன்ற படைப்புகள் மிக அ...</td>\n",
       "      <td>Not_offensive</td>\n",
       "      <td>Not_offensive</td>\n",
       "    </tr>\n",
       "    <tr>\n",
       "      <th>4</th>\n",
       "      <td>Vera level BGM .. semma  trailer. 🤞</td>\n",
       "      <td>Not_offensive</td>\n",
       "      <td>Not_offensive</td>\n",
       "    </tr>\n",
       "    <tr>\n",
       "      <th>...</th>\n",
       "      <td>...</td>\n",
       "      <td>...</td>\n",
       "      <td>...</td>\n",
       "    </tr>\n",
       "    <tr>\n",
       "      <th>4383</th>\n",
       "      <td>மிஷ்கின்  - சினிமாவின் சலித்து போன வட்டத்திற்க...</td>\n",
       "      <td>Not_offensive</td>\n",
       "      <td>Not_offensive</td>\n",
       "    </tr>\n",
       "    <tr>\n",
       "      <th>4384</th>\n",
       "      <td>Sivaji - Bhajii Sapdu Petta - Sweet Sapdu  Ser...</td>\n",
       "      <td>Not_offensive</td>\n",
       "      <td>Not_offensive</td>\n",
       "    </tr>\n",
       "    <tr>\n",
       "      <th>4385</th>\n",
       "      <td>8k dislike sure all vijay fans</td>\n",
       "      <td>Offensive_Targeted_Insult_Other</td>\n",
       "      <td>Offensive_Targeted_Insult_Individual</td>\n",
       "    </tr>\n",
       "    <tr>\n",
       "      <th>4386</th>\n",
       "      <td>Lady super star Manju warrier Fans Hit like</td>\n",
       "      <td>Not_offensive</td>\n",
       "      <td>Not_offensive</td>\n",
       "    </tr>\n",
       "    <tr>\n",
       "      <th>4387</th>\n",
       "      <td>Very nice .......kandippa theater la paakanum paa</td>\n",
       "      <td>Not_offensive</td>\n",
       "      <td>Not_offensive</td>\n",
       "    </tr>\n",
       "  </tbody>\n",
       "</table>\n",
       "<p>4388 rows × 3 columns</p>\n",
       "</div>"
      ],
      "text/plain": [
       "                                                   text  \\\n",
       "id                                                        \n",
       "0                     Handsome hunk  keri vaa thalaivaa   \n",
       "1     தென்காசி மாவட்டம் நாடார் சமுதாயம் சார்பாக வாழ்...   \n",
       "2     je vous aime bravo pour clip de merde que j éc...   \n",
       "3     சிறப்பு..... மேலும் இது போன்ற படைப்புகள் மிக அ...   \n",
       "4                   Vera level BGM .. semma  trailer. 🤞   \n",
       "...                                                 ...   \n",
       "4383  மிஷ்கின்  - சினிமாவின் சலித்து போன வட்டத்திற்க...   \n",
       "4384  Sivaji - Bhajii Sapdu Petta - Sweet Sapdu  Ser...   \n",
       "4385                     8k dislike sure all vijay fans   \n",
       "4386        Lady super star Manju warrier Fans Hit like   \n",
       "4387  Very nice .......kandippa theater la paakanum paa   \n",
       "\n",
       "                             GT_label                                labels  \n",
       "id                                                                           \n",
       "0                       Not_offensive                         Not_offensive  \n",
       "1                       Not_offensive                         Not_offensive  \n",
       "2                           not-Tamil                             not-Tamil  \n",
       "3                       Not_offensive                         Not_offensive  \n",
       "4                       Not_offensive                         Not_offensive  \n",
       "...                               ...                                   ...  \n",
       "4383                    Not_offensive                         Not_offensive  \n",
       "4384                    Not_offensive                         Not_offensive  \n",
       "4385  Offensive_Targeted_Insult_Other  Offensive_Targeted_Insult_Individual  \n",
       "4386                    Not_offensive                         Not_offensive  \n",
       "4387                    Not_offensive                         Not_offensive  \n",
       "\n",
       "[4388 rows x 3 columns]"
      ]
     },
     "execution_count": 63,
     "metadata": {},
     "output_type": "execute_result"
    }
   ],
   "source": [
    "tamil_test"
   ]
  },
  {
   "cell_type": "code",
   "execution_count": 64,
   "metadata": {},
   "outputs": [
    {
     "name": "stdout",
     "output_type": "stream",
     "text": [
      "                                      precision    recall  f1-score   support\n",
      "\n",
      "                       Not_offensive       0.88      0.93      0.91      3193\n",
      "     Offensive_Targeted_Insult_Group       0.49      0.41      0.44       295\n",
      "Offensive_Targeted_Insult_Individual       0.55      0.49      0.52       307\n",
      "     Offensive_Targeted_Insult_Other       0.00      0.00      0.00        65\n",
      "               Offensive_Untargetede       0.50      0.47      0.49       356\n",
      "                           not-Tamil       0.87      0.87      0.87       172\n",
      "\n",
      "                            accuracy                           0.81      4388\n",
      "                           macro avg       0.55      0.53      0.54      4388\n",
      "                        weighted avg       0.79      0.81      0.80      4388\n",
      "\n"
     ]
    }
   ],
   "source": [
    "from sklearn.metrics import classification_report\n",
    "\n",
    "print(classification_report(tamil_test['GT_label'], tamil_test['labels']))"
   ]
  },
  {
   "cell_type": "code",
   "execution_count": 65,
   "metadata": {},
   "outputs": [],
   "source": [
    "tamil_test.to_csv(\"../../test_preds/\" + saved_model_filename + \".tsv\", sep = '\\t')\n",
    "np.save(\"../../test_probs/\"+saved_model_filename+\".npy\", weighted_dev_preds)"
   ]
  },
  {
   "cell_type": "markdown",
   "metadata": {},
   "source": [
    "#### Performance of each model separately"
   ]
  },
  {
   "cell_type": "code",
   "execution_count": 11,
   "metadata": {},
   "outputs": [],
   "source": [
    "import numpy as np\n",
    "import pickle\n",
    "saved_model_filename = 'GA_tamil_v1'\n",
    "\n",
    "with open(\"../../dev_preds/weights_\" + saved_model_filename + \".pickle\", 'rb') as handle:\n",
    "    mw = pickle.load(handle)"
   ]
  },
  {
   "cell_type": "code",
   "execution_count": 12,
   "metadata": {},
   "outputs": [],
   "source": [
    "all_model_names = mw.keys()"
   ]
  },
  {
   "cell_type": "code",
   "execution_count": 25,
   "metadata": {},
   "outputs": [],
   "source": [
    "all_test_preds = []\n",
    "for model_name in all_model_names:\n",
    "    all_test_preds.append(np.load(\"../../test_probs/\"+model_name+\".npy\"))"
   ]
  },
  {
   "cell_type": "code",
   "execution_count": 26,
   "metadata": {},
   "outputs": [
    {
     "data": {
      "text/plain": [
       "(4392, 6)"
      ]
     },
     "execution_count": 26,
     "metadata": {},
     "output_type": "execute_result"
    }
   ],
   "source": [
    "all_test_preds[0].shape"
   ]
  },
  {
   "cell_type": "code",
   "execution_count": 38,
   "metadata": {},
   "outputs": [],
   "source": [
    "from sklearn.metrics import classification_report"
   ]
  },
  {
   "cell_type": "code",
   "execution_count": 39,
   "metadata": {},
   "outputs": [
    {
     "name": "stdout",
     "output_type": "stream",
     "text": [
      "XLMroberta_large_tamil_weighted.pth\n",
      "                                      precision    recall  f1-score   support\n",
      "\n",
      "                       Not_offensive       0.00      0.00      0.00      3190\n",
      "                           not-Tamil       0.04      1.00      0.07       160\n",
      "     Offensive_Targeted_Insult_Other       0.00      0.00      0.00        71\n",
      "     Offensive_Targeted_Insult_Group       0.00      0.00      0.00       288\n",
      "               Offensive_Untargetede       0.00      0.00      0.00       368\n",
      "Offensive_Targeted_Insult_Individual       0.00      0.00      0.00       315\n",
      "\n",
      "                            accuracy                           0.04      4392\n",
      "                           macro avg       0.01      0.17      0.01      4392\n",
      "                        weighted avg       0.00      0.04      0.00      4392\n",
      "\n",
      "Distilbert_m_base_cased_Tamil.pth\n",
      "                                      precision    recall  f1-score   support\n",
      "\n",
      "                       Not_offensive       0.85      0.92      0.88      3190\n",
      "                           not-Tamil       0.88      0.73      0.80       160\n",
      "     Offensive_Targeted_Insult_Other       0.00      0.00      0.00        71\n",
      "     Offensive_Targeted_Insult_Group       0.33      0.25      0.28       288\n",
      "               Offensive_Untargetede       0.41      0.32      0.36       368\n",
      "Offensive_Targeted_Insult_Individual       0.32      0.30      0.31       315\n",
      "\n",
      "                            accuracy                           0.76      4392\n",
      "                           macro avg       0.46      0.42      0.44      4392\n",
      "                        weighted avg       0.73      0.76      0.74      4392\n",
      "\n",
      "XLMroberta_large_Tamil.pth\n",
      "                                      precision    recall  f1-score   support\n",
      "\n",
      "                       Not_offensive       0.89      0.90      0.90      3190\n",
      "                           not-Tamil       0.82      0.84      0.83       160\n",
      "     Offensive_Targeted_Insult_Other       0.00      0.00      0.00        71\n",
      "     Offensive_Targeted_Insult_Group       0.38      0.28      0.32       288\n",
      "               Offensive_Untargetede       0.42      0.46      0.44       368\n",
      "Offensive_Targeted_Insult_Individual       0.40      0.45      0.43       315\n",
      "\n",
      "                            accuracy                           0.78      4392\n",
      "                           macro avg       0.48      0.49      0.49      4392\n",
      "                        weighted avg       0.76      0.78      0.77      4392\n",
      "\n",
      "Mbert_base_cased_Tamil[ 0.23034415  4.0278542  12.89977974  2.29037935  2.01531315  2.4995732 ].pth\n",
      "                                      precision    recall  f1-score   support\n",
      "\n",
      "                       Not_offensive       0.92      0.79      0.85      3190\n",
      "                           not-Tamil       0.83      0.77      0.80       160\n",
      "     Offensive_Targeted_Insult_Other       0.15      0.07      0.10        71\n",
      "     Offensive_Targeted_Insult_Group       0.25      0.52      0.34       288\n",
      "               Offensive_Untargetede       0.32      0.45      0.37       368\n",
      "Offensive_Targeted_Insult_Individual       0.33      0.37      0.35       315\n",
      "\n",
      "                            accuracy                           0.70      4392\n",
      "                           macro avg       0.47      0.49      0.47      4392\n",
      "                        weighted avg       0.77      0.70      0.72      4392\n",
      "\n",
      "XLMroberta_base_Tamil.pth\n",
      "                                      precision    recall  f1-score   support\n",
      "\n",
      "                       Not_offensive       0.87      0.91      0.89      3190\n",
      "                           not-Tamil       0.85      0.79      0.82       160\n",
      "     Offensive_Targeted_Insult_Other       0.00      0.00      0.00        71\n",
      "     Offensive_Targeted_Insult_Group       0.39      0.29      0.33       288\n",
      "               Offensive_Untargetede       0.43      0.42      0.42       368\n",
      "Offensive_Targeted_Insult_Individual       0.41      0.41      0.41       315\n",
      "\n",
      "                            accuracy                           0.77      4392\n",
      "                           macro avg       0.49      0.47      0.48      4392\n",
      "                        weighted avg       0.75      0.77      0.76      4392\n",
      "\n",
      "Indic_bert_Tamil.pth\n",
      "                                      precision    recall  f1-score   support\n",
      "\n",
      "                       Not_offensive       0.86      0.84      0.85      3190\n",
      "                           not-Tamil       0.83      0.64      0.72       160\n",
      "     Offensive_Targeted_Insult_Other       0.00      0.00      0.00        71\n",
      "     Offensive_Targeted_Insult_Group       0.23      0.35      0.28       288\n",
      "               Offensive_Untargetede       0.30      0.25      0.27       368\n",
      "Offensive_Targeted_Insult_Individual       0.33      0.38      0.35       315\n",
      "\n",
      "                            accuracy                           0.71      4392\n",
      "                           macro avg       0.42      0.41      0.41      4392\n",
      "                        weighted avg       0.72      0.71      0.71      4392\n",
      "\n",
      "MURIL_cased_temp_Tamil.pth\n",
      "                                      precision    recall  f1-score   support\n",
      "\n",
      "                       Not_offensive       0.86      0.90      0.88      3190\n",
      "                           not-Tamil       0.73      0.78      0.75       160\n",
      "     Offensive_Targeted_Insult_Other       0.00      0.00      0.00        71\n",
      "     Offensive_Targeted_Insult_Group       0.35      0.31      0.33       288\n",
      "               Offensive_Untargetede       0.34      0.37      0.36       368\n",
      "Offensive_Targeted_Insult_Individual       0.35      0.23      0.28       315\n",
      "\n",
      "                            accuracy                           0.75      4392\n",
      "                           macro avg       0.44      0.43      0.43      4392\n",
      "                        weighted avg       0.72      0.75      0.74      4392\n",
      "\n",
      "XLMroberta_from_custom_pretrained_Tamil.pth\n",
      "                                      precision    recall  f1-score   support\n",
      "\n",
      "                       Not_offensive       0.86      0.92      0.89      3190\n",
      "                           not-Tamil       0.86      0.71      0.78       160\n",
      "     Offensive_Targeted_Insult_Other       0.08      0.08      0.08        71\n",
      "     Offensive_Targeted_Insult_Group       0.37      0.29      0.33       288\n",
      "               Offensive_Untargetede       0.47      0.33      0.38       368\n",
      "Offensive_Targeted_Insult_Individual       0.43      0.39      0.41       315\n",
      "\n",
      "                            accuracy                           0.77      4392\n",
      "                           macro avg       0.51      0.45      0.48      4392\n",
      "                        weighted avg       0.75      0.77      0.76      4392\n",
      "\n",
      "XLMroberta_custom_pretrained_tamil_weighted.pth\n",
      "                                      precision    recall  f1-score   support\n",
      "\n",
      "                       Not_offensive       0.92      0.80      0.86      3190\n",
      "                           not-Tamil       0.81      0.82      0.82       160\n",
      "     Offensive_Targeted_Insult_Other       0.04      0.06      0.05        71\n",
      "     Offensive_Targeted_Insult_Group       0.28      0.43      0.34       288\n",
      "               Offensive_Untargetede       0.40      0.35      0.37       368\n",
      "Offensive_Targeted_Insult_Individual       0.33      0.59      0.42       315\n",
      "\n",
      "                            accuracy                           0.72      4392\n",
      "                           macro avg       0.46      0.51      0.48      4392\n",
      "                        weighted avg       0.77      0.72      0.74      4392\n",
      "\n",
      "Mbert_base_cased_tamil_weighted.pth\n",
      "                                      precision    recall  f1-score   support\n",
      "\n",
      "                       Not_offensive       0.90      0.80      0.85      3190\n",
      "                           not-Tamil       0.79      0.81      0.80       160\n",
      "     Offensive_Targeted_Insult_Other       0.07      0.18      0.11        71\n",
      "     Offensive_Targeted_Insult_Group       0.24      0.39      0.30       288\n",
      "               Offensive_Untargetede       0.34      0.32      0.33       368\n",
      "Offensive_Targeted_Insult_Individual       0.33      0.43      0.38       315\n",
      "\n",
      "                            accuracy                           0.70      4392\n",
      "                           macro avg       0.45      0.49      0.46      4392\n",
      "                        weighted avg       0.76      0.70      0.72      4392\n",
      "\n",
      "XLMroberta_custom_pretrained_Tamil_Weighted[0.01 1.   1.   1.   1.   1.  ].pth\n",
      "                                      precision    recall  f1-score   support\n",
      "\n",
      "                       Not_offensive       0.96      0.60      0.74      3190\n",
      "                           not-Tamil       0.73      0.84      0.78       160\n",
      "     Offensive_Targeted_Insult_Other       0.04      0.08      0.05        71\n",
      "     Offensive_Targeted_Insult_Group       0.23      0.58      0.33       288\n",
      "               Offensive_Untargetede       0.25      0.53      0.34       368\n",
      "Offensive_Targeted_Insult_Individual       0.28      0.50      0.36       315\n",
      "\n",
      "                            accuracy                           0.59      4392\n",
      "                           macro avg       0.42      0.52      0.43      4392\n",
      "                        weighted avg       0.78      0.59      0.64      4392\n",
      "\n",
      "MURIL_cased_temp_tamil_weighted.pth\n",
      "                                      precision    recall  f1-score   support\n",
      "\n",
      "                       Not_offensive       0.86      0.84      0.85      3190\n",
      "                           not-Tamil       0.66      0.78      0.71       160\n",
      "     Offensive_Targeted_Insult_Other       0.08      0.11      0.09        71\n",
      "     Offensive_Targeted_Insult_Group       0.27      0.26      0.26       288\n",
      "               Offensive_Untargetede       0.37      0.30      0.33       368\n",
      "Offensive_Targeted_Insult_Individual       0.25      0.33      0.28       315\n",
      "\n",
      "                            accuracy                           0.71      4392\n",
      "                           macro avg       0.41      0.44      0.42      4392\n",
      "                        weighted avg       0.72      0.71      0.71      4392\n",
      "\n",
      "Indic_bert_tamil_weighted.pth\n",
      "                                      precision    recall  f1-score   support\n",
      "\n",
      "                       Not_offensive       0.88      0.79      0.83      3190\n",
      "                           not-Tamil       0.78      0.80      0.79       160\n",
      "     Offensive_Targeted_Insult_Other       0.11      0.04      0.06        71\n",
      "     Offensive_Targeted_Insult_Group       0.25      0.27      0.26       288\n",
      "               Offensive_Untargetede       0.25      0.42      0.32       368\n",
      "Offensive_Targeted_Insult_Individual       0.25      0.30      0.27       315\n",
      "\n",
      "                            accuracy                           0.68      4392\n",
      "                           macro avg       0.42      0.44      0.42      4392\n",
      "                        weighted avg       0.72      0.68      0.70      4392\n",
      "\n",
      "XLMroberta_base_tamil_weighted.pth\n",
      "                                      precision    recall  f1-score   support\n",
      "\n",
      "                       Not_offensive       0.91      0.80      0.85      3190\n",
      "                           not-Tamil       0.80      0.81      0.80       160\n",
      "     Offensive_Targeted_Insult_Other       0.09      0.17      0.12        71\n",
      "     Offensive_Targeted_Insult_Group       0.25      0.45      0.32       288\n",
      "               Offensive_Untargetede       0.37      0.29      0.32       368\n",
      "Offensive_Targeted_Insult_Individual       0.33      0.50      0.40       315\n",
      "\n",
      "                            accuracy                           0.70      4392\n",
      "                           macro avg       0.46      0.50      0.47      4392\n",
      "                        weighted avg       0.76      0.70      0.72      4392\n",
      "\n",
      "Mbert_base_cased_Tamil.pth\n",
      "                                      precision    recall  f1-score   support\n",
      "\n",
      "                       Not_offensive       0.85      0.93      0.89      3190\n",
      "                           not-Tamil       0.90      0.76      0.82       160\n",
      "     Offensive_Targeted_Insult_Other       0.00      0.00      0.00        71\n",
      "     Offensive_Targeted_Insult_Group       0.37      0.28      0.32       288\n",
      "               Offensive_Untargetede       0.46      0.28      0.35       368\n",
      "Offensive_Targeted_Insult_Individual       0.41      0.40      0.40       315\n",
      "\n",
      "                            accuracy                           0.77      4392\n",
      "                           macro avg       0.50      0.44      0.46      4392\n",
      "                        weighted avg       0.74      0.77      0.75      4392\n",
      "\n",
      "Distilbert_m_base_cased_tamil_weighted.pth\n",
      "                                      precision    recall  f1-score   support\n",
      "\n",
      "                       Not_offensive       0.88      0.81      0.84      3190\n",
      "                           not-Tamil       0.76      0.70      0.73       160\n",
      "     Offensive_Targeted_Insult_Other       0.08      0.07      0.07        71\n",
      "     Offensive_Targeted_Insult_Group       0.20      0.50      0.29       288\n",
      "               Offensive_Untargetede       0.34      0.24      0.28       368\n",
      "Offensive_Targeted_Insult_Individual       0.31      0.29      0.30       315\n",
      "\n",
      "                            accuracy                           0.69      4392\n",
      "                           macro avg       0.43      0.43      0.42      4392\n",
      "                        weighted avg       0.73      0.69      0.70      4392\n",
      "\n"
     ]
    },
    {
     "name": "stderr",
     "output_type": "stream",
     "text": [
      "/home/punyajoy/.conda/envs/nlp/lib/python3.7/site-packages/sklearn/metrics/_classification.py:1221: UndefinedMetricWarning: Precision and F-score are ill-defined and being set to 0.0 in labels with no predicted samples. Use `zero_division` parameter to control this behavior.\n",
      "  _warn_prf(average, modifier, msg_start, len(result))\n"
     ]
    }
   ],
   "source": [
    "label_mapping = {\n",
    "    'Not_offensive': 0, \n",
    "    'not-Tamil': 1, \n",
    "    'Offensive_Targeted_Insult_Other': 2, \n",
    "    'Offensive_Targeted_Insult_Group': 3, \n",
    "    'Offensive_Untargetede': 4, \n",
    "    'Offensive_Targeted_Insult_Individual': 5\n",
    "}\n",
    "\n",
    "# Collecting Text and Labels\n",
    "test_batch_sentences = list(tamil_test['text'])\n",
    "test_batch_labels =  [label_mapping[x] for x in tamil_test['label']]\n",
    "\n",
    "for test_preds, mn in zip(all_test_preds, all_model_names):\n",
    "    final_test_preds = np.argmax(test_preds, axis = 1)\n",
    "    y_true = test_batch_labels\n",
    "    y_pred = final_test_preds\n",
    "    target_names = label_mapping.keys()\n",
    "    report = classification_report(y_true, y_pred, target_names=target_names)\n",
    "    print(mn)\n",
    "    print(report)"
   ]
  },
  {
   "cell_type": "code",
   "execution_count": null,
   "metadata": {},
   "outputs": [],
   "source": []
  }
 ],
 "metadata": {
  "kernelspec": {
   "display_name": "Python [conda env:.conda-nlp]",
   "language": "python",
   "name": "conda-env-.conda-nlp-py"
  },
  "language_info": {
   "codemirror_mode": {
    "name": "ipython",
    "version": 3
   },
   "file_extension": ".py",
   "mimetype": "text/x-python",
   "name": "python",
   "nbconvert_exporter": "python",
   "pygments_lexer": "ipython3",
   "version": "3.7.9"
  }
 },
 "nbformat": 4,
 "nbformat_minor": 4
}
